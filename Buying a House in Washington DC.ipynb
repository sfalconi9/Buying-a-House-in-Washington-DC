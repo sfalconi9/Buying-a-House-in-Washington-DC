{
 "cells": [
  {
   "cell_type": "markdown",
   "metadata": {},
   "source": [
    "### Background\n",
    "\n",
    "Buying a house in DC can be a daunting task. Inventory was described in November 2017 as [\"dismally low\"](https://www.washingtonpost.com/news/where-we-live/wp/2017/11/14/buyers-are-gaining-more-leverage-in-the-hot-d-c-area-housing-market/?utm_term=.b1aa57960214). But maybe armed with some appraisal data and machine learning, we can understand condominium values a little better. "
   ]
  },
  {
   "cell_type": "code",
   "execution_count": 1,
   "metadata": {},
   "outputs": [],
   "source": [
    "import os\n",
    "import urllib\n",
    "import openpyxl\n",
    "\n",
    "import pandas as pd\n",
    "import seaborn as sns\n",
    "\n",
    "import matplotlib.pyplot as plt"
   ]
  },
  {
   "cell_type": "code",
   "execution_count": 2,
   "metadata": {},
   "outputs": [],
   "source": [
    "pd.options.display.max_columns = 35\n",
    "%matplotlib inline"
   ]
  },
  {
   "cell_type": "markdown",
   "metadata": {},
   "source": [
    "### Data Wrangling\n",
    "\n",
    "Now we are ready to get our data. Storing the original files is always good practice so you can go back to the original data if needed. Below you will find a short python function to download data to a data directory. This way, if you decide to download more data later, you can set the information particular to that data as variables and re-use this function."
   ]
  },
  {
   "cell_type": "code",
   "execution_count": 3,
   "metadata": {},
   "outputs": [],
   "source": [
    "# create a default data directory. Since we are using os, this convention will work on both Windows and\n",
    "# *nix based environments\n",
    "DATA_DIR = \"./data\"\n",
    "\n",
    "# the two variables below are the url of our dataset on the opendata site and the path/name for the file\n",
    "#we are downloading\n",
    "cama_url = \"https://opendata.arcgis.com/datasets/d6c70978daa8461992658b69dccb3dbf_24.csv\"\n",
    "cama_file = os.path.join(DATA_DIR, \"cama-condo.csv\")"
   ]
  },
  {
   "cell_type": "code",
   "execution_count": 4,
   "metadata": {},
   "outputs": [],
   "source": [
    "# the get_data function takes 3 variables - our data directory (dname), the url of our data (furl) and \n",
    "# the path/name for our file (fname)\n",
    "\n",
    "def get_data(dname, furl, fname):\n",
    "    \n",
    "    # check to see if the data directory exists. if not, create it and print the message\n",
    "    if not os.path.exists(dname):\n",
    "        print(\"making directory\")\n",
    "        os.makedirs(dname)\n",
    "    # if the data directory exists, just print the message\n",
    "    else:\n",
    "        print(\"directory exists\")\n",
    "        \n",
    "    # check to see if the file exists. if not, download the file and print the message\n",
    "    if not os.path.isfile(fname):\n",
    "        print(\"downloading file\")\n",
    "        urllib.request.urlretrieve(furl, fname)\n",
    "    \n",
    "    # if the file exists, print the message (if you cloned the github repo, all the data is included)\n",
    "    else:\n",
    "        print(\"file exists\")"
   ]
  },
  {
   "cell_type": "code",
   "execution_count": 5,
   "metadata": {},
   "outputs": [
    {
     "name": "stdout",
     "output_type": "stream",
     "text": [
      "directory exists\n",
      "file exists\n"
     ]
    }
   ],
   "source": [
    "get_data(DATA_DIR, cama_url, cama_file)"
   ]
  },
  {
   "cell_type": "code",
   "execution_count": 6,
   "metadata": {},
   "outputs": [],
   "source": [
    "df = pd.read_csv(cama_file)"
   ]
  },
  {
   "cell_type": "markdown",
   "metadata": {},
   "source": [
    "We can use \"head\" to see the head, or first 5 rows of the data. If you want to see more than 5, put the number of rows you would like to see more rows, put the number you want inside the parenthesis."
   ]
  },
  {
   "cell_type": "code",
   "execution_count": 7,
   "metadata": {},
   "outputs": [
    {
     "data": {
      "text/html": [
       "<div>\n",
       "<style scoped>\n",
       "    .dataframe tbody tr th:only-of-type {\n",
       "        vertical-align: middle;\n",
       "    }\n",
       "\n",
       "    .dataframe tbody tr th {\n",
       "        vertical-align: top;\n",
       "    }\n",
       "\n",
       "    .dataframe thead th {\n",
       "        text-align: right;\n",
       "    }\n",
       "</style>\n",
       "<table border=\"1\" class=\"dataframe\">\n",
       "  <thead>\n",
       "    <tr style=\"text-align: right;\">\n",
       "      <th></th>\n",
       "      <th>OBJECTID</th>\n",
       "      <th>SSL</th>\n",
       "      <th>BLDG_NUM</th>\n",
       "      <th>CMPLX_NUM</th>\n",
       "      <th>AYB</th>\n",
       "      <th>YR_RMDL</th>\n",
       "      <th>EYB</th>\n",
       "      <th>ROOMS</th>\n",
       "      <th>BEDRM</th>\n",
       "      <th>BATHRM</th>\n",
       "      <th>HF_BATHRM</th>\n",
       "      <th>HEAT</th>\n",
       "      <th>HEAT_D</th>\n",
       "      <th>AC</th>\n",
       "      <th>FIREPLACES</th>\n",
       "      <th>SALEDATE</th>\n",
       "      <th>PRICE</th>\n",
       "      <th>QUALIFIED</th>\n",
       "      <th>SALE_NUM</th>\n",
       "      <th>LIVING_GBA</th>\n",
       "      <th>USECODE</th>\n",
       "      <th>LANDAREA</th>\n",
       "      <th>GIS_LAST_MOD_DTTM</th>\n",
       "    </tr>\n",
       "  </thead>\n",
       "  <tbody>\n",
       "    <tr>\n",
       "      <th>0</th>\n",
       "      <td>3001</td>\n",
       "      <td>5763    2009</td>\n",
       "      <td>1</td>\n",
       "      <td>1481</td>\n",
       "      <td>1965</td>\n",
       "      <td>NaN</td>\n",
       "      <td>2002</td>\n",
       "      <td>4.0</td>\n",
       "      <td>2.0</td>\n",
       "      <td>1.0</td>\n",
       "      <td>0.0</td>\n",
       "      <td>3.0</td>\n",
       "      <td>Wall Furnace</td>\n",
       "      <td>Y</td>\n",
       "      <td>0.0</td>\n",
       "      <td>2007-06-11T00:00:00.000Z</td>\n",
       "      <td>145000.0</td>\n",
       "      <td>Q</td>\n",
       "      <td>1</td>\n",
       "      <td>715</td>\n",
       "      <td>16</td>\n",
       "      <td>1185</td>\n",
       "      <td>2018-02-25T18:02:24.000Z</td>\n",
       "    </tr>\n",
       "    <tr>\n",
       "      <th>1</th>\n",
       "      <td>3002</td>\n",
       "      <td>5763    2010</td>\n",
       "      <td>1</td>\n",
       "      <td>1481</td>\n",
       "      <td>1965</td>\n",
       "      <td>NaN</td>\n",
       "      <td>2002</td>\n",
       "      <td>2.0</td>\n",
       "      <td>0.0</td>\n",
       "      <td>1.0</td>\n",
       "      <td>0.0</td>\n",
       "      <td>3.0</td>\n",
       "      <td>Wall Furnace</td>\n",
       "      <td>Y</td>\n",
       "      <td>0.0</td>\n",
       "      <td>2015-09-28T00:00:00.000Z</td>\n",
       "      <td>0.0</td>\n",
       "      <td>U</td>\n",
       "      <td>3</td>\n",
       "      <td>404</td>\n",
       "      <td>16</td>\n",
       "      <td>593</td>\n",
       "      <td>2018-02-25T18:02:24.000Z</td>\n",
       "    </tr>\n",
       "    <tr>\n",
       "      <th>2</th>\n",
       "      <td>3003</td>\n",
       "      <td>5763    2011</td>\n",
       "      <td>1</td>\n",
       "      <td>1481</td>\n",
       "      <td>1965</td>\n",
       "      <td>NaN</td>\n",
       "      <td>2002</td>\n",
       "      <td>4.0</td>\n",
       "      <td>2.0</td>\n",
       "      <td>1.0</td>\n",
       "      <td>0.0</td>\n",
       "      <td>3.0</td>\n",
       "      <td>Wall Furnace</td>\n",
       "      <td>Y</td>\n",
       "      <td>0.0</td>\n",
       "      <td>2005-08-16T00:00:00.000Z</td>\n",
       "      <td>126000.0</td>\n",
       "      <td>Q</td>\n",
       "      <td>1</td>\n",
       "      <td>688</td>\n",
       "      <td>16</td>\n",
       "      <td>988</td>\n",
       "      <td>2018-02-25T18:02:24.000Z</td>\n",
       "    </tr>\n",
       "    <tr>\n",
       "      <th>3</th>\n",
       "      <td>3004</td>\n",
       "      <td>5763    2012</td>\n",
       "      <td>1</td>\n",
       "      <td>1481</td>\n",
       "      <td>1965</td>\n",
       "      <td>NaN</td>\n",
       "      <td>2002</td>\n",
       "      <td>4.0</td>\n",
       "      <td>2.0</td>\n",
       "      <td>1.0</td>\n",
       "      <td>0.0</td>\n",
       "      <td>3.0</td>\n",
       "      <td>Wall Furnace</td>\n",
       "      <td>Y</td>\n",
       "      <td>0.0</td>\n",
       "      <td>2002-05-21T00:00:00.000Z</td>\n",
       "      <td>80995.0</td>\n",
       "      <td>Q</td>\n",
       "      <td>1</td>\n",
       "      <td>698</td>\n",
       "      <td>16</td>\n",
       "      <td>1087</td>\n",
       "      <td>2018-02-25T18:02:24.000Z</td>\n",
       "    </tr>\n",
       "    <tr>\n",
       "      <th>4</th>\n",
       "      <td>3005</td>\n",
       "      <td>5763    2013</td>\n",
       "      <td>1</td>\n",
       "      <td>1481</td>\n",
       "      <td>1965</td>\n",
       "      <td>NaN</td>\n",
       "      <td>2002</td>\n",
       "      <td>3.0</td>\n",
       "      <td>1.0</td>\n",
       "      <td>1.0</td>\n",
       "      <td>0.0</td>\n",
       "      <td>3.0</td>\n",
       "      <td>Wall Furnace</td>\n",
       "      <td>Y</td>\n",
       "      <td>0.0</td>\n",
       "      <td>2005-04-26T00:00:00.000Z</td>\n",
       "      <td>107500.0</td>\n",
       "      <td>Q</td>\n",
       "      <td>1</td>\n",
       "      <td>612</td>\n",
       "      <td>16</td>\n",
       "      <td>889</td>\n",
       "      <td>2018-02-25T18:02:24.000Z</td>\n",
       "    </tr>\n",
       "  </tbody>\n",
       "</table>\n",
       "</div>"
      ],
      "text/plain": [
       "   OBJECTID           SSL  BLDG_NUM  CMPLX_NUM   AYB  YR_RMDL   EYB  ROOMS  \\\n",
       "0      3001  5763    2009         1       1481  1965      NaN  2002    4.0   \n",
       "1      3002  5763    2010         1       1481  1965      NaN  2002    2.0   \n",
       "2      3003  5763    2011         1       1481  1965      NaN  2002    4.0   \n",
       "3      3004  5763    2012         1       1481  1965      NaN  2002    4.0   \n",
       "4      3005  5763    2013         1       1481  1965      NaN  2002    3.0   \n",
       "\n",
       "   BEDRM  BATHRM  HF_BATHRM  HEAT        HEAT_D AC  FIREPLACES  \\\n",
       "0    2.0     1.0        0.0   3.0  Wall Furnace  Y         0.0   \n",
       "1    0.0     1.0        0.0   3.0  Wall Furnace  Y         0.0   \n",
       "2    2.0     1.0        0.0   3.0  Wall Furnace  Y         0.0   \n",
       "3    2.0     1.0        0.0   3.0  Wall Furnace  Y         0.0   \n",
       "4    1.0     1.0        0.0   3.0  Wall Furnace  Y         0.0   \n",
       "\n",
       "                   SALEDATE     PRICE QUALIFIED  SALE_NUM  LIVING_GBA  \\\n",
       "0  2007-06-11T00:00:00.000Z  145000.0         Q         1         715   \n",
       "1  2015-09-28T00:00:00.000Z       0.0         U         3         404   \n",
       "2  2005-08-16T00:00:00.000Z  126000.0         Q         1         688   \n",
       "3  2002-05-21T00:00:00.000Z   80995.0         Q         1         698   \n",
       "4  2005-04-26T00:00:00.000Z  107500.0         Q         1         612   \n",
       "\n",
       "   USECODE  LANDAREA         GIS_LAST_MOD_DTTM  \n",
       "0       16      1185  2018-02-25T18:02:24.000Z  \n",
       "1       16       593  2018-02-25T18:02:24.000Z  \n",
       "2       16       988  2018-02-25T18:02:24.000Z  \n",
       "3       16      1087  2018-02-25T18:02:24.000Z  \n",
       "4       16       889  2018-02-25T18:02:24.000Z  "
      ]
     },
     "execution_count": 7,
     "metadata": {},
     "output_type": "execute_result"
    }
   ],
   "source": [
    "df.head()"
   ]
  },
  {
   "cell_type": "code",
   "execution_count": 8,
   "metadata": {},
   "outputs": [
    {
     "data": {
      "text/html": [
       "<div>\n",
       "<style scoped>\n",
       "    .dataframe tbody tr th:only-of-type {\n",
       "        vertical-align: middle;\n",
       "    }\n",
       "\n",
       "    .dataframe tbody tr th {\n",
       "        vertical-align: top;\n",
       "    }\n",
       "\n",
       "    .dataframe thead th {\n",
       "        text-align: right;\n",
       "    }\n",
       "</style>\n",
       "<table border=\"1\" class=\"dataframe\">\n",
       "  <thead>\n",
       "    <tr style=\"text-align: right;\">\n",
       "      <th></th>\n",
       "      <th>OBJECTID</th>\n",
       "      <th>SSL</th>\n",
       "      <th>BLDG_NUM</th>\n",
       "      <th>CMPLX_NUM</th>\n",
       "      <th>AYB</th>\n",
       "      <th>YR_RMDL</th>\n",
       "      <th>EYB</th>\n",
       "      <th>ROOMS</th>\n",
       "      <th>BEDRM</th>\n",
       "      <th>BATHRM</th>\n",
       "      <th>HF_BATHRM</th>\n",
       "      <th>HEAT</th>\n",
       "      <th>HEAT_D</th>\n",
       "      <th>AC</th>\n",
       "      <th>FIREPLACES</th>\n",
       "      <th>SALEDATE</th>\n",
       "      <th>PRICE</th>\n",
       "      <th>QUALIFIED</th>\n",
       "      <th>SALE_NUM</th>\n",
       "      <th>LIVING_GBA</th>\n",
       "      <th>USECODE</th>\n",
       "      <th>LANDAREA</th>\n",
       "      <th>GIS_LAST_MOD_DTTM</th>\n",
       "    </tr>\n",
       "  </thead>\n",
       "  <tbody>\n",
       "    <tr>\n",
       "      <th>0</th>\n",
       "      <td>3001</td>\n",
       "      <td>5763    2009</td>\n",
       "      <td>1</td>\n",
       "      <td>1481</td>\n",
       "      <td>1965</td>\n",
       "      <td>NaN</td>\n",
       "      <td>2002</td>\n",
       "      <td>4.0</td>\n",
       "      <td>2.0</td>\n",
       "      <td>1.0</td>\n",
       "      <td>0.0</td>\n",
       "      <td>3.0</td>\n",
       "      <td>Wall Furnace</td>\n",
       "      <td>Y</td>\n",
       "      <td>0.0</td>\n",
       "      <td>2007-06-11T00:00:00.000Z</td>\n",
       "      <td>145000.0</td>\n",
       "      <td>Q</td>\n",
       "      <td>1</td>\n",
       "      <td>715</td>\n",
       "      <td>16</td>\n",
       "      <td>1185</td>\n",
       "      <td>2018-02-25T18:02:24.000Z</td>\n",
       "    </tr>\n",
       "    <tr>\n",
       "      <th>1</th>\n",
       "      <td>3002</td>\n",
       "      <td>5763    2010</td>\n",
       "      <td>1</td>\n",
       "      <td>1481</td>\n",
       "      <td>1965</td>\n",
       "      <td>NaN</td>\n",
       "      <td>2002</td>\n",
       "      <td>2.0</td>\n",
       "      <td>0.0</td>\n",
       "      <td>1.0</td>\n",
       "      <td>0.0</td>\n",
       "      <td>3.0</td>\n",
       "      <td>Wall Furnace</td>\n",
       "      <td>Y</td>\n",
       "      <td>0.0</td>\n",
       "      <td>2015-09-28T00:00:00.000Z</td>\n",
       "      <td>0.0</td>\n",
       "      <td>U</td>\n",
       "      <td>3</td>\n",
       "      <td>404</td>\n",
       "      <td>16</td>\n",
       "      <td>593</td>\n",
       "      <td>2018-02-25T18:02:24.000Z</td>\n",
       "    </tr>\n",
       "    <tr>\n",
       "      <th>2</th>\n",
       "      <td>3003</td>\n",
       "      <td>5763    2011</td>\n",
       "      <td>1</td>\n",
       "      <td>1481</td>\n",
       "      <td>1965</td>\n",
       "      <td>NaN</td>\n",
       "      <td>2002</td>\n",
       "      <td>4.0</td>\n",
       "      <td>2.0</td>\n",
       "      <td>1.0</td>\n",
       "      <td>0.0</td>\n",
       "      <td>3.0</td>\n",
       "      <td>Wall Furnace</td>\n",
       "      <td>Y</td>\n",
       "      <td>0.0</td>\n",
       "      <td>2005-08-16T00:00:00.000Z</td>\n",
       "      <td>126000.0</td>\n",
       "      <td>Q</td>\n",
       "      <td>1</td>\n",
       "      <td>688</td>\n",
       "      <td>16</td>\n",
       "      <td>988</td>\n",
       "      <td>2018-02-25T18:02:24.000Z</td>\n",
       "    </tr>\n",
       "    <tr>\n",
       "      <th>3</th>\n",
       "      <td>3004</td>\n",
       "      <td>5763    2012</td>\n",
       "      <td>1</td>\n",
       "      <td>1481</td>\n",
       "      <td>1965</td>\n",
       "      <td>NaN</td>\n",
       "      <td>2002</td>\n",
       "      <td>4.0</td>\n",
       "      <td>2.0</td>\n",
       "      <td>1.0</td>\n",
       "      <td>0.0</td>\n",
       "      <td>3.0</td>\n",
       "      <td>Wall Furnace</td>\n",
       "      <td>Y</td>\n",
       "      <td>0.0</td>\n",
       "      <td>2002-05-21T00:00:00.000Z</td>\n",
       "      <td>80995.0</td>\n",
       "      <td>Q</td>\n",
       "      <td>1</td>\n",
       "      <td>698</td>\n",
       "      <td>16</td>\n",
       "      <td>1087</td>\n",
       "      <td>2018-02-25T18:02:24.000Z</td>\n",
       "    </tr>\n",
       "    <tr>\n",
       "      <th>4</th>\n",
       "      <td>3005</td>\n",
       "      <td>5763    2013</td>\n",
       "      <td>1</td>\n",
       "      <td>1481</td>\n",
       "      <td>1965</td>\n",
       "      <td>NaN</td>\n",
       "      <td>2002</td>\n",
       "      <td>3.0</td>\n",
       "      <td>1.0</td>\n",
       "      <td>1.0</td>\n",
       "      <td>0.0</td>\n",
       "      <td>3.0</td>\n",
       "      <td>Wall Furnace</td>\n",
       "      <td>Y</td>\n",
       "      <td>0.0</td>\n",
       "      <td>2005-04-26T00:00:00.000Z</td>\n",
       "      <td>107500.0</td>\n",
       "      <td>Q</td>\n",
       "      <td>1</td>\n",
       "      <td>612</td>\n",
       "      <td>16</td>\n",
       "      <td>889</td>\n",
       "      <td>2018-02-25T18:02:24.000Z</td>\n",
       "    </tr>\n",
       "    <tr>\n",
       "      <th>5</th>\n",
       "      <td>3006</td>\n",
       "      <td>5763    2014</td>\n",
       "      <td>1</td>\n",
       "      <td>1481</td>\n",
       "      <td>1965</td>\n",
       "      <td>NaN</td>\n",
       "      <td>2002</td>\n",
       "      <td>3.0</td>\n",
       "      <td>1.0</td>\n",
       "      <td>1.0</td>\n",
       "      <td>0.0</td>\n",
       "      <td>3.0</td>\n",
       "      <td>Wall Furnace</td>\n",
       "      <td>Y</td>\n",
       "      <td>0.0</td>\n",
       "      <td>2017-03-27T00:00:00.000Z</td>\n",
       "      <td>54900.0</td>\n",
       "      <td>U</td>\n",
       "      <td>5</td>\n",
       "      <td>578</td>\n",
       "      <td>16</td>\n",
       "      <td>790</td>\n",
       "      <td>2018-02-25T18:02:24.000Z</td>\n",
       "    </tr>\n",
       "    <tr>\n",
       "      <th>6</th>\n",
       "      <td>3007</td>\n",
       "      <td>5763    2015</td>\n",
       "      <td>1</td>\n",
       "      <td>1481</td>\n",
       "      <td>1965</td>\n",
       "      <td>NaN</td>\n",
       "      <td>2002</td>\n",
       "      <td>3.0</td>\n",
       "      <td>1.0</td>\n",
       "      <td>1.0</td>\n",
       "      <td>0.0</td>\n",
       "      <td>3.0</td>\n",
       "      <td>Wall Furnace</td>\n",
       "      <td>Y</td>\n",
       "      <td>0.0</td>\n",
       "      <td>2002-08-20T00:00:00.000Z</td>\n",
       "      <td>65995.0</td>\n",
       "      <td>Q</td>\n",
       "      <td>1</td>\n",
       "      <td>578</td>\n",
       "      <td>16</td>\n",
       "      <td>790</td>\n",
       "      <td>2018-02-25T18:02:24.000Z</td>\n",
       "    </tr>\n",
       "    <tr>\n",
       "      <th>7</th>\n",
       "      <td>3008</td>\n",
       "      <td>5763    2016</td>\n",
       "      <td>1</td>\n",
       "      <td>1481</td>\n",
       "      <td>1965</td>\n",
       "      <td>NaN</td>\n",
       "      <td>2002</td>\n",
       "      <td>3.0</td>\n",
       "      <td>1.0</td>\n",
       "      <td>1.0</td>\n",
       "      <td>0.0</td>\n",
       "      <td>3.0</td>\n",
       "      <td>Wall Furnace</td>\n",
       "      <td>Y</td>\n",
       "      <td>0.0</td>\n",
       "      <td>2002-05-15T00:00:00.000Z</td>\n",
       "      <td>62995.0</td>\n",
       "      <td>Q</td>\n",
       "      <td>1</td>\n",
       "      <td>578</td>\n",
       "      <td>16</td>\n",
       "      <td>790</td>\n",
       "      <td>2018-02-25T18:02:24.000Z</td>\n",
       "    </tr>\n",
       "  </tbody>\n",
       "</table>\n",
       "</div>"
      ],
      "text/plain": [
       "   OBJECTID           SSL  BLDG_NUM  CMPLX_NUM   AYB  YR_RMDL   EYB  ROOMS  \\\n",
       "0      3001  5763    2009         1       1481  1965      NaN  2002    4.0   \n",
       "1      3002  5763    2010         1       1481  1965      NaN  2002    2.0   \n",
       "2      3003  5763    2011         1       1481  1965      NaN  2002    4.0   \n",
       "3      3004  5763    2012         1       1481  1965      NaN  2002    4.0   \n",
       "4      3005  5763    2013         1       1481  1965      NaN  2002    3.0   \n",
       "5      3006  5763    2014         1       1481  1965      NaN  2002    3.0   \n",
       "6      3007  5763    2015         1       1481  1965      NaN  2002    3.0   \n",
       "7      3008  5763    2016         1       1481  1965      NaN  2002    3.0   \n",
       "\n",
       "   BEDRM  BATHRM  HF_BATHRM  HEAT        HEAT_D AC  FIREPLACES  \\\n",
       "0    2.0     1.0        0.0   3.0  Wall Furnace  Y         0.0   \n",
       "1    0.0     1.0        0.0   3.0  Wall Furnace  Y         0.0   \n",
       "2    2.0     1.0        0.0   3.0  Wall Furnace  Y         0.0   \n",
       "3    2.0     1.0        0.0   3.0  Wall Furnace  Y         0.0   \n",
       "4    1.0     1.0        0.0   3.0  Wall Furnace  Y         0.0   \n",
       "5    1.0     1.0        0.0   3.0  Wall Furnace  Y         0.0   \n",
       "6    1.0     1.0        0.0   3.0  Wall Furnace  Y         0.0   \n",
       "7    1.0     1.0        0.0   3.0  Wall Furnace  Y         0.0   \n",
       "\n",
       "                   SALEDATE     PRICE QUALIFIED  SALE_NUM  LIVING_GBA  \\\n",
       "0  2007-06-11T00:00:00.000Z  145000.0         Q         1         715   \n",
       "1  2015-09-28T00:00:00.000Z       0.0         U         3         404   \n",
       "2  2005-08-16T00:00:00.000Z  126000.0         Q         1         688   \n",
       "3  2002-05-21T00:00:00.000Z   80995.0         Q         1         698   \n",
       "4  2005-04-26T00:00:00.000Z  107500.0         Q         1         612   \n",
       "5  2017-03-27T00:00:00.000Z   54900.0         U         5         578   \n",
       "6  2002-08-20T00:00:00.000Z   65995.0         Q         1         578   \n",
       "7  2002-05-15T00:00:00.000Z   62995.0         Q         1         578   \n",
       "\n",
       "   USECODE  LANDAREA         GIS_LAST_MOD_DTTM  \n",
       "0       16      1185  2018-02-25T18:02:24.000Z  \n",
       "1       16       593  2018-02-25T18:02:24.000Z  \n",
       "2       16       988  2018-02-25T18:02:24.000Z  \n",
       "3       16      1087  2018-02-25T18:02:24.000Z  \n",
       "4       16       889  2018-02-25T18:02:24.000Z  \n",
       "5       16       790  2018-02-25T18:02:24.000Z  \n",
       "6       16       790  2018-02-25T18:02:24.000Z  \n",
       "7       16       790  2018-02-25T18:02:24.000Z  "
      ]
     },
     "execution_count": 8,
     "metadata": {},
     "output_type": "execute_result"
    }
   ],
   "source": [
    "df.head(8)"
   ]
  },
  {
   "cell_type": "markdown",
   "metadata": {},
   "source": [
    "Shape will tell us the shape -- number of rows and columns -- in our dataset. Columns will give us a list of column names."
   ]
  },
  {
   "cell_type": "code",
   "execution_count": 9,
   "metadata": {},
   "outputs": [
    {
     "data": {
      "text/plain": [
       "(52954, 23)"
      ]
     },
     "execution_count": 9,
     "metadata": {},
     "output_type": "execute_result"
    }
   ],
   "source": [
    "df.shape"
   ]
  },
  {
   "cell_type": "code",
   "execution_count": 10,
   "metadata": {},
   "outputs": [
    {
     "data": {
      "text/plain": [
       "Index(['OBJECTID', 'SSL', 'BLDG_NUM', 'CMPLX_NUM', 'AYB', 'YR_RMDL', 'EYB',\n",
       "       'ROOMS', 'BEDRM', 'BATHRM', 'HF_BATHRM', 'HEAT', 'HEAT_D', 'AC',\n",
       "       'FIREPLACES', 'SALEDATE', 'PRICE', 'QUALIFIED', 'SALE_NUM',\n",
       "       'LIVING_GBA', 'USECODE', 'LANDAREA', 'GIS_LAST_MOD_DTTM'],\n",
       "      dtype='object')"
      ]
     },
     "execution_count": 10,
     "metadata": {},
     "output_type": "execute_result"
    }
   ],
   "source": [
    "df.columns"
   ]
  },
  {
   "cell_type": "markdown",
   "metadata": {},
   "source": [
    "Info will give us even more info. Take a few minutes to review the information."
   ]
  },
  {
   "cell_type": "code",
   "execution_count": 11,
   "metadata": {},
   "outputs": [
    {
     "name": "stdout",
     "output_type": "stream",
     "text": [
      "<class 'pandas.core.frame.DataFrame'>\n",
      "RangeIndex: 52954 entries, 0 to 52953\n",
      "Data columns (total 23 columns):\n",
      " #   Column             Non-Null Count  Dtype  \n",
      "---  ------             --------------  -----  \n",
      " 0   OBJECTID           52954 non-null  int64  \n",
      " 1   SSL                52954 non-null  object \n",
      " 2   BLDG_NUM           52954 non-null  int64  \n",
      " 3   CMPLX_NUM          52954 non-null  int64  \n",
      " 4   AYB                52954 non-null  int64  \n",
      " 5   YR_RMDL            31686 non-null  float64\n",
      " 6   EYB                52954 non-null  int64  \n",
      " 7   ROOMS              52308 non-null  float64\n",
      " 8   BEDRM              52323 non-null  float64\n",
      " 9   BATHRM             52323 non-null  float64\n",
      " 10  HF_BATHRM          52085 non-null  float64\n",
      " 11  HEAT               52321 non-null  float64\n",
      " 12  HEAT_D             52321 non-null  object \n",
      " 13  AC                 52322 non-null  object \n",
      " 14  FIREPLACES         52160 non-null  float64\n",
      " 15  SALEDATE           52954 non-null  object \n",
      " 16  PRICE              48934 non-null  float64\n",
      " 17  QUALIFIED          52953 non-null  object \n",
      " 18  SALE_NUM           52954 non-null  int64  \n",
      " 19  LIVING_GBA         52954 non-null  int64  \n",
      " 20  USECODE            52954 non-null  int64  \n",
      " 21  LANDAREA           52954 non-null  int64  \n",
      " 22  GIS_LAST_MOD_DTTM  52954 non-null  object \n",
      "dtypes: float64(8), int64(9), object(6)\n",
      "memory usage: 9.3+ MB\n"
     ]
    }
   ],
   "source": [
    "df.info()"
   ]
  },
  {
   "cell_type": "markdown",
   "metadata": {},
   "source": [
    "Now that we have data, let's start wrangling it in to something useful to us. If we use the idea mentioned above to create a simple application that uses machine learning to determine the appraisal value of a condominium in order to assist with the daunting task of purchasing in DC, we might want to start wrangling the dataset into something we can use to perform a regression analysis.\n",
    "\n",
    "To add some additional information to help us work through the data, let's say our hypothetical buyer has decided they are only interested in condos with at least 2 bedrooms. Additionally, they would like to live in Ward 6, an area located in the heart of Washington DC.\n",
    "\n",
    "Let's start by dropping some items we won't need. OBJECTID is a unique idea in the data and is not going to be useful in our regression. We don't have good information in our metadata on what QUALIFIED or USECODE are. We hadve decided LANDAREA is not important. GIS_LAST_MOD_DTTM is a modification date for the data, so also not relevant here. \n",
    "\n",
    "We use drop to drop columns in pandas. The axis variable of 1 specifies columns. \"inplace\" tells pandas we want to drop the columns from our actual dataframe."
   ]
  },
  {
   "cell_type": "code",
   "execution_count": 12,
   "metadata": {},
   "outputs": [],
   "source": [
    "df.drop(['OBJECTID', 'QUALIFIED', 'USECODE', 'LANDAREA', 'GIS_LAST_MOD_DTTM'], axis=1, inplace=True)"
   ]
  },
  {
   "cell_type": "markdown",
   "metadata": {},
   "source": [
    "SALEDATE is probably something we want to hold on to. But as info showed us, the data is an object, not a date/time. Let's convert it to something more useable."
   ]
  },
  {
   "cell_type": "code",
   "execution_count": 13,
   "metadata": {},
   "outputs": [],
   "source": [
    "df['SALEDATE'] = pd.to_datetime(df['SALEDATE'], errors='coerce')"
   ]
  },
  {
   "cell_type": "markdown",
   "metadata": {},
   "source": [
    "Let's see what our data looks like now."
   ]
  },
  {
   "cell_type": "code",
   "execution_count": 14,
   "metadata": {},
   "outputs": [
    {
     "name": "stdout",
     "output_type": "stream",
     "text": [
      "<class 'pandas.core.frame.DataFrame'>\n",
      "RangeIndex: 52954 entries, 0 to 52953\n",
      "Data columns (total 18 columns):\n",
      " #   Column      Non-Null Count  Dtype              \n",
      "---  ------      --------------  -----              \n",
      " 0   SSL         52954 non-null  object             \n",
      " 1   BLDG_NUM    52954 non-null  int64              \n",
      " 2   CMPLX_NUM   52954 non-null  int64              \n",
      " 3   AYB         52954 non-null  int64              \n",
      " 4   YR_RMDL     31686 non-null  float64            \n",
      " 5   EYB         52954 non-null  int64              \n",
      " 6   ROOMS       52308 non-null  float64            \n",
      " 7   BEDRM       52323 non-null  float64            \n",
      " 8   BATHRM      52323 non-null  float64            \n",
      " 9   HF_BATHRM   52085 non-null  float64            \n",
      " 10  HEAT        52321 non-null  float64            \n",
      " 11  HEAT_D      52321 non-null  object             \n",
      " 12  AC          52322 non-null  object             \n",
      " 13  FIREPLACES  52160 non-null  float64            \n",
      " 14  SALEDATE    52953 non-null  datetime64[ns, UTC]\n",
      " 15  PRICE       48934 non-null  float64            \n",
      " 16  SALE_NUM    52954 non-null  int64              \n",
      " 17  LIVING_GBA  52954 non-null  int64              \n",
      "dtypes: datetime64[ns, UTC](1), float64(8), int64(6), object(3)\n",
      "memory usage: 7.3+ MB\n"
     ]
    }
   ],
   "source": [
    "df.info()"
   ]
  },
  {
   "cell_type": "markdown",
   "metadata": {},
   "source": [
    "The number after the column name tells us the number of non-null values. It looks like we don't have a price for everything. PRICE has 48,934 non-null values while our data has 52,954 objects. An object isn't going to be useful to us without a price and we don't really have an easy way to figure out what that missing price should be. So let's drop those items from the data."
   ]
  },
  {
   "cell_type": "code",
   "execution_count": 15,
   "metadata": {},
   "outputs": [],
   "source": [
    "df = df[df.PRICE.notnull()]"
   ]
  },
  {
   "cell_type": "code",
   "execution_count": 16,
   "metadata": {},
   "outputs": [
    {
     "name": "stdout",
     "output_type": "stream",
     "text": [
      "<class 'pandas.core.frame.DataFrame'>\n",
      "Int64Index: 48934 entries, 0 to 52953\n",
      "Data columns (total 18 columns):\n",
      " #   Column      Non-Null Count  Dtype              \n",
      "---  ------      --------------  -----              \n",
      " 0   SSL         48934 non-null  object             \n",
      " 1   BLDG_NUM    48934 non-null  int64              \n",
      " 2   CMPLX_NUM   48934 non-null  int64              \n",
      " 3   AYB         48934 non-null  int64              \n",
      " 4   YR_RMDL     29386 non-null  float64            \n",
      " 5   EYB         48934 non-null  int64              \n",
      " 6   ROOMS       48289 non-null  float64            \n",
      " 7   BEDRM       48303 non-null  float64            \n",
      " 8   BATHRM      48303 non-null  float64            \n",
      " 9   HF_BATHRM   48067 non-null  float64            \n",
      " 10  HEAT        48302 non-null  float64            \n",
      " 11  HEAT_D      48302 non-null  object             \n",
      " 12  AC          48302 non-null  object             \n",
      " 13  FIREPLACES  48144 non-null  float64            \n",
      " 14  SALEDATE    48933 non-null  datetime64[ns, UTC]\n",
      " 15  PRICE       48934 non-null  float64            \n",
      " 16  SALE_NUM    48934 non-null  int64              \n",
      " 17  LIVING_GBA  48934 non-null  int64              \n",
      "dtypes: datetime64[ns, UTC](1), float64(8), int64(6), object(3)\n",
      "memory usage: 7.1+ MB\n"
     ]
    }
   ],
   "source": [
    "df.info()"
   ]
  },
  {
   "cell_type": "markdown",
   "metadata": {},
   "source": [
    "We still have some missing values. Our hypothetical buyer wants to buy something with at least 2 bedrooms so next let's drop condos with less than 2 bedrooms from our data. We can do this by subsetting our dataframe to only items where the value in BEDRM >= 2. We then assign that to a variable we can call. By re-using our variable df, we are overwriting the data we are already referencing it with."
   ]
  },
  {
   "cell_type": "code",
   "execution_count": 17,
   "metadata": {},
   "outputs": [],
   "source": [
    "df = df[df.BEDRM >= 2.0]"
   ]
  },
  {
   "cell_type": "code",
   "execution_count": 18,
   "metadata": {},
   "outputs": [
    {
     "name": "stdout",
     "output_type": "stream",
     "text": [
      "<class 'pandas.core.frame.DataFrame'>\n",
      "Int64Index: 21603 entries, 0 to 52953\n",
      "Data columns (total 18 columns):\n",
      " #   Column      Non-Null Count  Dtype              \n",
      "---  ------      --------------  -----              \n",
      " 0   SSL         21603 non-null  object             \n",
      " 1   BLDG_NUM    21603 non-null  int64              \n",
      " 2   CMPLX_NUM   21603 non-null  int64              \n",
      " 3   AYB         21603 non-null  int64              \n",
      " 4   YR_RMDL     12197 non-null  float64            \n",
      " 5   EYB         21603 non-null  int64              \n",
      " 6   ROOMS       21592 non-null  float64            \n",
      " 7   BEDRM       21603 non-null  float64            \n",
      " 8   BATHRM      21603 non-null  float64            \n",
      " 9   HF_BATHRM   21558 non-null  float64            \n",
      " 10  HEAT        21602 non-null  float64            \n",
      " 11  HEAT_D      21602 non-null  object             \n",
      " 12  AC          21602 non-null  object             \n",
      " 13  FIREPLACES  21524 non-null  float64            \n",
      " 14  SALEDATE    21603 non-null  datetime64[ns, UTC]\n",
      " 15  PRICE       21603 non-null  float64            \n",
      " 16  SALE_NUM    21603 non-null  int64              \n",
      " 17  LIVING_GBA  21603 non-null  int64              \n",
      "dtypes: datetime64[ns, UTC](1), float64(8), int64(6), object(3)\n",
      "memory usage: 3.1+ MB\n"
     ]
    }
   ],
   "source": [
    "df.info()"
   ]
  },
  {
   "cell_type": "markdown",
   "metadata": {},
   "source": [
    "Next let's look at the column YR_RMDL. There are also a lot of null values and we have no meaningful way to impute them. Let's drop this column.\n",
    "\n",
    "Our buyer isn't really concerned with the overall number of rooms as long as the condo has 2 bedrooms so we can drop that column as well. "
   ]
  },
  {
   "cell_type": "code",
   "execution_count": 19,
   "metadata": {},
   "outputs": [],
   "source": [
    "df.drop(['YR_RMDL', 'ROOMS'], axis=1, inplace=True)"
   ]
  },
  {
   "cell_type": "code",
   "execution_count": 20,
   "metadata": {},
   "outputs": [
    {
     "name": "stdout",
     "output_type": "stream",
     "text": [
      "<class 'pandas.core.frame.DataFrame'>\n",
      "Int64Index: 21603 entries, 0 to 52953\n",
      "Data columns (total 16 columns):\n",
      " #   Column      Non-Null Count  Dtype              \n",
      "---  ------      --------------  -----              \n",
      " 0   SSL         21603 non-null  object             \n",
      " 1   BLDG_NUM    21603 non-null  int64              \n",
      " 2   CMPLX_NUM   21603 non-null  int64              \n",
      " 3   AYB         21603 non-null  int64              \n",
      " 4   EYB         21603 non-null  int64              \n",
      " 5   BEDRM       21603 non-null  float64            \n",
      " 6   BATHRM      21603 non-null  float64            \n",
      " 7   HF_BATHRM   21558 non-null  float64            \n",
      " 8   HEAT        21602 non-null  float64            \n",
      " 9   HEAT_D      21602 non-null  object             \n",
      " 10  AC          21602 non-null  object             \n",
      " 11  FIREPLACES  21524 non-null  float64            \n",
      " 12  SALEDATE    21603 non-null  datetime64[ns, UTC]\n",
      " 13  PRICE       21603 non-null  float64            \n",
      " 14  SALE_NUM    21603 non-null  int64              \n",
      " 15  LIVING_GBA  21603 non-null  int64              \n",
      "dtypes: datetime64[ns, UTC](1), float64(6), int64(6), object(3)\n",
      "memory usage: 2.8+ MB\n"
     ]
    }
   ],
   "source": [
    "df.info()"
   ]
  },
  {
   "cell_type": "markdown",
   "metadata": {},
   "source": [
    "HF_BATHRM and FIREPLACES also contain null values. However, instead of dropping those columns, let's assume a null value is equivalent to 0. We can use fillna to change all our null values to 0. We can address HEAT and HEAT_D later if we decide to use those in our regression."
   ]
  },
  {
   "cell_type": "code",
   "execution_count": 21,
   "metadata": {},
   "outputs": [],
   "source": [
    "df.fillna(0, inplace=True)"
   ]
  },
  {
   "cell_type": "code",
   "execution_count": 22,
   "metadata": {},
   "outputs": [
    {
     "name": "stdout",
     "output_type": "stream",
     "text": [
      "<class 'pandas.core.frame.DataFrame'>\n",
      "Int64Index: 21603 entries, 0 to 52953\n",
      "Data columns (total 16 columns):\n",
      " #   Column      Non-Null Count  Dtype              \n",
      "---  ------      --------------  -----              \n",
      " 0   SSL         21603 non-null  object             \n",
      " 1   BLDG_NUM    21603 non-null  int64              \n",
      " 2   CMPLX_NUM   21603 non-null  int64              \n",
      " 3   AYB         21603 non-null  int64              \n",
      " 4   EYB         21603 non-null  int64              \n",
      " 5   BEDRM       21603 non-null  float64            \n",
      " 6   BATHRM      21603 non-null  float64            \n",
      " 7   HF_BATHRM   21603 non-null  float64            \n",
      " 8   HEAT        21603 non-null  float64            \n",
      " 9   HEAT_D      21603 non-null  object             \n",
      " 10  AC          21603 non-null  object             \n",
      " 11  FIREPLACES  21603 non-null  float64            \n",
      " 12  SALEDATE    21603 non-null  datetime64[ns, UTC]\n",
      " 13  PRICE       21603 non-null  float64            \n",
      " 14  SALE_NUM    21603 non-null  int64              \n",
      " 15  LIVING_GBA  21603 non-null  int64              \n",
      "dtypes: datetime64[ns, UTC](1), float64(6), int64(6), object(3)\n",
      "memory usage: 2.8+ MB\n"
     ]
    }
   ],
   "source": [
    "df.info()"
   ]
  },
  {
   "cell_type": "markdown",
   "metadata": {},
   "source": [
    "Our buyer wants to live in Ward 6. How can we figure out which of the condos are located there? SSL (square suffix and lot) actually gives us a key to do that. We can determine the address from SSL. Once we have the address, we can get additional useful information including Ward. \n",
    "\n",
    "Let's start with the address and address residential units."
   ]
  },
  {
   "cell_type": "code",
   "execution_count": 23,
   "metadata": {},
   "outputs": [],
   "source": [
    "aru_url = \"https://opendata.arcgis.com/datasets/c3c0ae91dca54c5d9ce56962fa0dd645_68.csv\"\n",
    "aru_file = os.path.join(DATA_DIR, \"address_residential_unit.csv\")"
   ]
  },
  {
   "cell_type": "code",
   "execution_count": 24,
   "metadata": {},
   "outputs": [
    {
     "name": "stdout",
     "output_type": "stream",
     "text": [
      "directory exists\n",
      "file exists\n"
     ]
    }
   ],
   "source": [
    "get_data(DATA_DIR, aru_url, aru_file)"
   ]
  },
  {
   "cell_type": "code",
   "execution_count": 25,
   "metadata": {},
   "outputs": [],
   "source": [
    "aru_df = pd.read_csv(aru_file)"
   ]
  },
  {
   "cell_type": "code",
   "execution_count": 26,
   "metadata": {
    "scrolled": true
   },
   "outputs": [
    {
     "data": {
      "text/html": [
       "<div>\n",
       "<style scoped>\n",
       "    .dataframe tbody tr th:only-of-type {\n",
       "        vertical-align: middle;\n",
       "    }\n",
       "\n",
       "    .dataframe tbody tr th {\n",
       "        vertical-align: top;\n",
       "    }\n",
       "\n",
       "    .dataframe thead th {\n",
       "        text-align: right;\n",
       "    }\n",
       "</style>\n",
       "<table border=\"1\" class=\"dataframe\">\n",
       "  <thead>\n",
       "    <tr style=\"text-align: right;\">\n",
       "      <th></th>\n",
       "      <th>OBJECTID</th>\n",
       "      <th>UNIT_ID</th>\n",
       "      <th>ADDRESS_ID</th>\n",
       "      <th>FULLADDRESS</th>\n",
       "      <th>SSL</th>\n",
       "      <th>STATUS</th>\n",
       "      <th>UNITNUM</th>\n",
       "      <th>UNITTYPE</th>\n",
       "      <th>METADATA_ID</th>\n",
       "    </tr>\n",
       "  </thead>\n",
       "  <tbody>\n",
       "    <tr>\n",
       "      <th>0</th>\n",
       "      <td>1</td>\n",
       "      <td>1271</td>\n",
       "      <td>145743</td>\n",
       "      <td>2017 37TH STREET SE</td>\n",
       "      <td>5671    2022</td>\n",
       "      <td>ACTIVE</td>\n",
       "      <td>102</td>\n",
       "      <td>CONDO</td>\n",
       "      <td>316669</td>\n",
       "    </tr>\n",
       "    <tr>\n",
       "      <th>1</th>\n",
       "      <td>2</td>\n",
       "      <td>1272</td>\n",
       "      <td>145743</td>\n",
       "      <td>2017 37TH STREET SE</td>\n",
       "      <td>5671    2023</td>\n",
       "      <td>ACTIVE</td>\n",
       "      <td>201</td>\n",
       "      <td>CONDO</td>\n",
       "      <td>316670</td>\n",
       "    </tr>\n",
       "    <tr>\n",
       "      <th>2</th>\n",
       "      <td>3</td>\n",
       "      <td>1273</td>\n",
       "      <td>145743</td>\n",
       "      <td>2017 37TH STREET SE</td>\n",
       "      <td>5671    2024</td>\n",
       "      <td>ACTIVE</td>\n",
       "      <td>202</td>\n",
       "      <td>CONDO</td>\n",
       "      <td>316671</td>\n",
       "    </tr>\n",
       "    <tr>\n",
       "      <th>3</th>\n",
       "      <td>4</td>\n",
       "      <td>1274</td>\n",
       "      <td>145743</td>\n",
       "      <td>2017 37TH STREET SE</td>\n",
       "      <td>5671    2025</td>\n",
       "      <td>ACTIVE</td>\n",
       "      <td>301</td>\n",
       "      <td>CONDO</td>\n",
       "      <td>316672</td>\n",
       "    </tr>\n",
       "    <tr>\n",
       "      <th>4</th>\n",
       "      <td>5</td>\n",
       "      <td>1275</td>\n",
       "      <td>145743</td>\n",
       "      <td>2017 37TH STREET SE</td>\n",
       "      <td>5671    2026</td>\n",
       "      <td>ACTIVE</td>\n",
       "      <td>302</td>\n",
       "      <td>CONDO</td>\n",
       "      <td>316673</td>\n",
       "    </tr>\n",
       "  </tbody>\n",
       "</table>\n",
       "</div>"
      ],
      "text/plain": [
       "   OBJECTID  UNIT_ID  ADDRESS_ID          FULLADDRESS           SSL  STATUS  \\\n",
       "0         1     1271      145743  2017 37TH STREET SE  5671    2022  ACTIVE   \n",
       "1         2     1272      145743  2017 37TH STREET SE  5671    2023  ACTIVE   \n",
       "2         3     1273      145743  2017 37TH STREET SE  5671    2024  ACTIVE   \n",
       "3         4     1274      145743  2017 37TH STREET SE  5671    2025  ACTIVE   \n",
       "4         5     1275      145743  2017 37TH STREET SE  5671    2026  ACTIVE   \n",
       "\n",
       "  UNITNUM UNITTYPE  METADATA_ID  \n",
       "0     102    CONDO       316669  \n",
       "1     201    CONDO       316670  \n",
       "2     202    CONDO       316671  \n",
       "3     301    CONDO       316672  \n",
       "4     302    CONDO       316673  "
      ]
     },
     "execution_count": 26,
     "metadata": {},
     "output_type": "execute_result"
    }
   ],
   "source": [
    "aru_df.head()"
   ]
  },
  {
   "cell_type": "code",
   "execution_count": 27,
   "metadata": {},
   "outputs": [
    {
     "data": {
      "text/plain": [
       "(235494, 9)"
      ]
     },
     "execution_count": 27,
     "metadata": {},
     "output_type": "execute_result"
    }
   ],
   "source": [
    "aru_df.shape"
   ]
  },
  {
   "cell_type": "code",
   "execution_count": 28,
   "metadata": {},
   "outputs": [
    {
     "name": "stdout",
     "output_type": "stream",
     "text": [
      "<class 'pandas.core.frame.DataFrame'>\n",
      "RangeIndex: 235494 entries, 0 to 235493\n",
      "Data columns (total 9 columns):\n",
      " #   Column       Non-Null Count   Dtype \n",
      "---  ------       --------------   ----- \n",
      " 0   OBJECTID     235494 non-null  int64 \n",
      " 1   UNIT_ID      235494 non-null  int64 \n",
      " 2   ADDRESS_ID   235494 non-null  int64 \n",
      " 3   FULLADDRESS  229822 non-null  object\n",
      " 4   SSL          55718 non-null   object\n",
      " 5   STATUS       235494 non-null  object\n",
      " 6   UNITNUM      235494 non-null  object\n",
      " 7   UNITTYPE     235494 non-null  object\n",
      " 8   METADATA_ID  235494 non-null  int64 \n",
      "dtypes: int64(4), object(5)\n",
      "memory usage: 16.2+ MB\n"
     ]
    }
   ],
   "source": [
    "aru_df.info()"
   ]
  },
  {
   "cell_type": "markdown",
   "metadata": {},
   "source": [
    "SSL is common to both our datasets. Unfortunately, we seem to have a lot of null values in SSL in the address data. How many matches do we have between the two? There is a way to easily check that."
   ]
  },
  {
   "cell_type": "code",
   "execution_count": 29,
   "metadata": {},
   "outputs": [
    {
     "data": {
      "text/plain": [
       "True     19591\n",
       "False     2012\n",
       "Name: SSL, dtype: int64"
      ]
     },
     "execution_count": 29,
     "metadata": {},
     "output_type": "execute_result"
    }
   ],
   "source": [
    "df['SSL'].isin(aru_df['SSL']).value_counts()"
   ]
  },
  {
   "cell_type": "markdown",
   "metadata": {},
   "source": [
    "pandas gives us a way to connect dataframes with merge. Here we are creating a third dataframe, condos, by merging our initial dataframe, df, with our address dataframe, aru_df. We also tell pandas that SSL is the common information between the two dataframes. "
   ]
  },
  {
   "cell_type": "code",
   "execution_count": 30,
   "metadata": {},
   "outputs": [],
   "source": [
    "condos = pd.merge(df, aru_df, on='SSL')"
   ]
  },
  {
   "cell_type": "code",
   "execution_count": 31,
   "metadata": {},
   "outputs": [
    {
     "data": {
      "text/plain": [
       "(19591, 24)"
      ]
     },
     "execution_count": 31,
     "metadata": {},
     "output_type": "execute_result"
    }
   ],
   "source": [
    "condos.shape"
   ]
  },
  {
   "cell_type": "code",
   "execution_count": 32,
   "metadata": {},
   "outputs": [
    {
     "data": {
      "text/html": [
       "<div>\n",
       "<style scoped>\n",
       "    .dataframe tbody tr th:only-of-type {\n",
       "        vertical-align: middle;\n",
       "    }\n",
       "\n",
       "    .dataframe tbody tr th {\n",
       "        vertical-align: top;\n",
       "    }\n",
       "\n",
       "    .dataframe thead th {\n",
       "        text-align: right;\n",
       "    }\n",
       "</style>\n",
       "<table border=\"1\" class=\"dataframe\">\n",
       "  <thead>\n",
       "    <tr style=\"text-align: right;\">\n",
       "      <th></th>\n",
       "      <th>SSL</th>\n",
       "      <th>BLDG_NUM</th>\n",
       "      <th>CMPLX_NUM</th>\n",
       "      <th>AYB</th>\n",
       "      <th>EYB</th>\n",
       "      <th>BEDRM</th>\n",
       "      <th>BATHRM</th>\n",
       "      <th>HF_BATHRM</th>\n",
       "      <th>HEAT</th>\n",
       "      <th>HEAT_D</th>\n",
       "      <th>AC</th>\n",
       "      <th>FIREPLACES</th>\n",
       "      <th>SALEDATE</th>\n",
       "      <th>PRICE</th>\n",
       "      <th>SALE_NUM</th>\n",
       "      <th>LIVING_GBA</th>\n",
       "      <th>OBJECTID</th>\n",
       "      <th>UNIT_ID</th>\n",
       "      <th>ADDRESS_ID</th>\n",
       "      <th>FULLADDRESS</th>\n",
       "      <th>STATUS</th>\n",
       "      <th>UNITNUM</th>\n",
       "      <th>UNITTYPE</th>\n",
       "      <th>METADATA_ID</th>\n",
       "    </tr>\n",
       "  </thead>\n",
       "  <tbody>\n",
       "    <tr>\n",
       "      <th>0</th>\n",
       "      <td>5763    2009</td>\n",
       "      <td>1</td>\n",
       "      <td>1481</td>\n",
       "      <td>1965</td>\n",
       "      <td>2002</td>\n",
       "      <td>2.0</td>\n",
       "      <td>1.0</td>\n",
       "      <td>0.0</td>\n",
       "      <td>3.0</td>\n",
       "      <td>Wall Furnace</td>\n",
       "      <td>Y</td>\n",
       "      <td>0.0</td>\n",
       "      <td>2007-06-11 00:00:00+00:00</td>\n",
       "      <td>145000.0</td>\n",
       "      <td>1</td>\n",
       "      <td>715</td>\n",
       "      <td>25533</td>\n",
       "      <td>24432</td>\n",
       "      <td>145293</td>\n",
       "      <td>1907 GOOD HOPE ROAD SE</td>\n",
       "      <td>ACTIVE</td>\n",
       "      <td>10</td>\n",
       "      <td>CONDO</td>\n",
       "      <td>339830</td>\n",
       "    </tr>\n",
       "    <tr>\n",
       "      <th>1</th>\n",
       "      <td>5763    2011</td>\n",
       "      <td>1</td>\n",
       "      <td>1481</td>\n",
       "      <td>1965</td>\n",
       "      <td>2002</td>\n",
       "      <td>2.0</td>\n",
       "      <td>1.0</td>\n",
       "      <td>0.0</td>\n",
       "      <td>3.0</td>\n",
       "      <td>Wall Furnace</td>\n",
       "      <td>Y</td>\n",
       "      <td>0.0</td>\n",
       "      <td>2005-08-16 00:00:00+00:00</td>\n",
       "      <td>126000.0</td>\n",
       "      <td>1</td>\n",
       "      <td>688</td>\n",
       "      <td>25535</td>\n",
       "      <td>24434</td>\n",
       "      <td>145293</td>\n",
       "      <td>1907 GOOD HOPE ROAD SE</td>\n",
       "      <td>ACTIVE</td>\n",
       "      <td>102</td>\n",
       "      <td>CONDO</td>\n",
       "      <td>339832</td>\n",
       "    </tr>\n",
       "    <tr>\n",
       "      <th>2</th>\n",
       "      <td>5763    2012</td>\n",
       "      <td>1</td>\n",
       "      <td>1481</td>\n",
       "      <td>1965</td>\n",
       "      <td>2002</td>\n",
       "      <td>2.0</td>\n",
       "      <td>1.0</td>\n",
       "      <td>0.0</td>\n",
       "      <td>3.0</td>\n",
       "      <td>Wall Furnace</td>\n",
       "      <td>Y</td>\n",
       "      <td>0.0</td>\n",
       "      <td>2002-05-21 00:00:00+00:00</td>\n",
       "      <td>80995.0</td>\n",
       "      <td>1</td>\n",
       "      <td>698</td>\n",
       "      <td>27127</td>\n",
       "      <td>22846</td>\n",
       "      <td>145293</td>\n",
       "      <td>1907 GOOD HOPE ROAD SE</td>\n",
       "      <td>ACTIVE</td>\n",
       "      <td>103</td>\n",
       "      <td>CONDO</td>\n",
       "      <td>338244</td>\n",
       "    </tr>\n",
       "    <tr>\n",
       "      <th>3</th>\n",
       "      <td>5763    2018</td>\n",
       "      <td>1</td>\n",
       "      <td>1481</td>\n",
       "      <td>1965</td>\n",
       "      <td>2002</td>\n",
       "      <td>2.0</td>\n",
       "      <td>1.0</td>\n",
       "      <td>0.0</td>\n",
       "      <td>3.0</td>\n",
       "      <td>Wall Furnace</td>\n",
       "      <td>Y</td>\n",
       "      <td>0.0</td>\n",
       "      <td>2010-04-22 00:00:00+00:00</td>\n",
       "      <td>22000.0</td>\n",
       "      <td>1</td>\n",
       "      <td>652</td>\n",
       "      <td>33068</td>\n",
       "      <td>22852</td>\n",
       "      <td>145293</td>\n",
       "      <td>1907 GOOD HOPE ROAD SE</td>\n",
       "      <td>ACTIVE</td>\n",
       "      <td>109</td>\n",
       "      <td>CONDO</td>\n",
       "      <td>338250</td>\n",
       "    </tr>\n",
       "    <tr>\n",
       "      <th>4</th>\n",
       "      <td>5763    2019</td>\n",
       "      <td>1</td>\n",
       "      <td>1481</td>\n",
       "      <td>1965</td>\n",
       "      <td>2002</td>\n",
       "      <td>2.0</td>\n",
       "      <td>1.0</td>\n",
       "      <td>0.0</td>\n",
       "      <td>3.0</td>\n",
       "      <td>Wall Furnace</td>\n",
       "      <td>Y</td>\n",
       "      <td>0.0</td>\n",
       "      <td>2017-11-01 00:00:00+00:00</td>\n",
       "      <td>72190.0</td>\n",
       "      <td>3</td>\n",
       "      <td>715</td>\n",
       "      <td>21946</td>\n",
       "      <td>23434</td>\n",
       "      <td>145293</td>\n",
       "      <td>1907 GOOD HOPE ROAD SE</td>\n",
       "      <td>ACTIVE</td>\n",
       "      <td>110</td>\n",
       "      <td>CONDO</td>\n",
       "      <td>338832</td>\n",
       "    </tr>\n",
       "  </tbody>\n",
       "</table>\n",
       "</div>"
      ],
      "text/plain": [
       "            SSL  BLDG_NUM  CMPLX_NUM   AYB   EYB  BEDRM  BATHRM  HF_BATHRM  \\\n",
       "0  5763    2009         1       1481  1965  2002    2.0     1.0        0.0   \n",
       "1  5763    2011         1       1481  1965  2002    2.0     1.0        0.0   \n",
       "2  5763    2012         1       1481  1965  2002    2.0     1.0        0.0   \n",
       "3  5763    2018         1       1481  1965  2002    2.0     1.0        0.0   \n",
       "4  5763    2019         1       1481  1965  2002    2.0     1.0        0.0   \n",
       "\n",
       "   HEAT        HEAT_D AC  FIREPLACES                  SALEDATE     PRICE  \\\n",
       "0   3.0  Wall Furnace  Y         0.0 2007-06-11 00:00:00+00:00  145000.0   \n",
       "1   3.0  Wall Furnace  Y         0.0 2005-08-16 00:00:00+00:00  126000.0   \n",
       "2   3.0  Wall Furnace  Y         0.0 2002-05-21 00:00:00+00:00   80995.0   \n",
       "3   3.0  Wall Furnace  Y         0.0 2010-04-22 00:00:00+00:00   22000.0   \n",
       "4   3.0  Wall Furnace  Y         0.0 2017-11-01 00:00:00+00:00   72190.0   \n",
       "\n",
       "   SALE_NUM  LIVING_GBA  OBJECTID  UNIT_ID  ADDRESS_ID  \\\n",
       "0         1         715     25533    24432      145293   \n",
       "1         1         688     25535    24434      145293   \n",
       "2         1         698     27127    22846      145293   \n",
       "3         1         652     33068    22852      145293   \n",
       "4         3         715     21946    23434      145293   \n",
       "\n",
       "              FULLADDRESS  STATUS UNITNUM UNITTYPE  METADATA_ID  \n",
       "0  1907 GOOD HOPE ROAD SE  ACTIVE      10    CONDO       339830  \n",
       "1  1907 GOOD HOPE ROAD SE  ACTIVE     102    CONDO       339832  \n",
       "2  1907 GOOD HOPE ROAD SE  ACTIVE     103    CONDO       338244  \n",
       "3  1907 GOOD HOPE ROAD SE  ACTIVE     109    CONDO       338250  \n",
       "4  1907 GOOD HOPE ROAD SE  ACTIVE     110    CONDO       338832  "
      ]
     },
     "execution_count": 32,
     "metadata": {},
     "output_type": "execute_result"
    }
   ],
   "source": [
    "condos.head()"
   ]
  },
  {
   "cell_type": "code",
   "execution_count": 33,
   "metadata": {},
   "outputs": [
    {
     "name": "stdout",
     "output_type": "stream",
     "text": [
      "<class 'pandas.core.frame.DataFrame'>\n",
      "Int64Index: 19591 entries, 0 to 19590\n",
      "Data columns (total 24 columns):\n",
      " #   Column       Non-Null Count  Dtype              \n",
      "---  ------       --------------  -----              \n",
      " 0   SSL          19591 non-null  object             \n",
      " 1   BLDG_NUM     19591 non-null  int64              \n",
      " 2   CMPLX_NUM    19591 non-null  int64              \n",
      " 3   AYB          19591 non-null  int64              \n",
      " 4   EYB          19591 non-null  int64              \n",
      " 5   BEDRM        19591 non-null  float64            \n",
      " 6   BATHRM       19591 non-null  float64            \n",
      " 7   HF_BATHRM    19591 non-null  float64            \n",
      " 8   HEAT         19591 non-null  float64            \n",
      " 9   HEAT_D       19591 non-null  object             \n",
      " 10  AC           19591 non-null  object             \n",
      " 11  FIREPLACES   19591 non-null  float64            \n",
      " 12  SALEDATE     19591 non-null  datetime64[ns, UTC]\n",
      " 13  PRICE        19591 non-null  float64            \n",
      " 14  SALE_NUM     19591 non-null  int64              \n",
      " 15  LIVING_GBA   19591 non-null  int64              \n",
      " 16  OBJECTID     19591 non-null  int64              \n",
      " 17  UNIT_ID      19591 non-null  int64              \n",
      " 18  ADDRESS_ID   19591 non-null  int64              \n",
      " 19  FULLADDRESS  19591 non-null  object             \n",
      " 20  STATUS       19591 non-null  object             \n",
      " 21  UNITNUM      19591 non-null  object             \n",
      " 22  UNITTYPE     19591 non-null  object             \n",
      " 23  METADATA_ID  19591 non-null  int64              \n",
      "dtypes: datetime64[ns, UTC](1), float64(6), int64(10), object(7)\n",
      "memory usage: 3.7+ MB\n"
     ]
    }
   ],
   "source": [
    "condos.info()"
   ]
  },
  {
   "cell_type": "markdown",
   "metadata": {},
   "source": [
    "Another useful thing we can look at is what values exist in our data, and how many times they occur in a particular column.\n"
   ]
  },
  {
   "cell_type": "code",
   "execution_count": 34,
   "metadata": {},
   "outputs": [
    {
     "name": "stdout",
     "output_type": "stream",
     "text": [
      "CONDO    19591\n",
      "Name: UNITTYPE, dtype: int64\n",
      "\n",
      "\n",
      "ACTIVE    19563\n",
      "RETIRE       28\n",
      "Name: STATUS, dtype: int64\n"
     ]
    }
   ],
   "source": [
    "print(condos.UNITTYPE.value_counts())\n",
    "print('\\n')\n",
    "print(condos.STATUS.value_counts())"
   ]
  },
  {
   "cell_type": "markdown",
   "metadata": {},
   "source": [
    "Our dataset didn't come with all that much information about it. Let's make the assumption we only want items that are ACTIVE. Then let's drop some columns we don't need."
   ]
  },
  {
   "cell_type": "code",
   "execution_count": 35,
   "metadata": {},
   "outputs": [],
   "source": [
    "condos = condos[condos.STATUS != 'RETIRE']"
   ]
  },
  {
   "cell_type": "code",
   "execution_count": 36,
   "metadata": {},
   "outputs": [],
   "source": [
    "condos.drop(['OBJECTID', 'STATUS', 'UNITTYPE', 'METADATA_ID'], axis=1, inplace=True)"
   ]
  },
  {
   "cell_type": "code",
   "execution_count": 37,
   "metadata": {},
   "outputs": [
    {
     "name": "stdout",
     "output_type": "stream",
     "text": [
      "<class 'pandas.core.frame.DataFrame'>\n",
      "Int64Index: 19563 entries, 0 to 19590\n",
      "Data columns (total 20 columns):\n",
      " #   Column       Non-Null Count  Dtype              \n",
      "---  ------       --------------  -----              \n",
      " 0   SSL          19563 non-null  object             \n",
      " 1   BLDG_NUM     19563 non-null  int64              \n",
      " 2   CMPLX_NUM    19563 non-null  int64              \n",
      " 3   AYB          19563 non-null  int64              \n",
      " 4   EYB          19563 non-null  int64              \n",
      " 5   BEDRM        19563 non-null  float64            \n",
      " 6   BATHRM       19563 non-null  float64            \n",
      " 7   HF_BATHRM    19563 non-null  float64            \n",
      " 8   HEAT         19563 non-null  float64            \n",
      " 9   HEAT_D       19563 non-null  object             \n",
      " 10  AC           19563 non-null  object             \n",
      " 11  FIREPLACES   19563 non-null  float64            \n",
      " 12  SALEDATE     19563 non-null  datetime64[ns, UTC]\n",
      " 13  PRICE        19563 non-null  float64            \n",
      " 14  SALE_NUM     19563 non-null  int64              \n",
      " 15  LIVING_GBA   19563 non-null  int64              \n",
      " 16  UNIT_ID      19563 non-null  int64              \n",
      " 17  ADDRESS_ID   19563 non-null  int64              \n",
      " 18  FULLADDRESS  19563 non-null  object             \n",
      " 19  UNITNUM      19563 non-null  object             \n",
      "dtypes: datetime64[ns, UTC](1), float64(6), int64(8), object(5)\n",
      "memory usage: 3.1+ MB\n"
     ]
    }
   ],
   "source": [
    "condos.info()"
   ]
  },
  {
   "cell_type": "markdown",
   "metadata": {},
   "source": [
    "At this point we have addresses for our units, but we don't know what Ward the addresses are in. The address dataset gave us an important bit of inforamation though.\n",
    "\n",
    "We currently have 19,563 condo units in our dataset. But since these are condo units, the number of unique addresses is actually lower than that. We will create a dataframe with our unique addresses."
   ]
  },
  {
   "cell_type": "code",
   "execution_count": 38,
   "metadata": {},
   "outputs": [],
   "source": [
    "# create a variable with the path/name of the file that will contain your unique address list\n",
    "mar_file = os.path.join(DATA_DIR, \"addresses.xlsx\")"
   ]
  },
  {
   "cell_type": "markdown",
   "metadata": {
    "collapsed": true
   },
   "source": [
    "```\n",
    "# change this cell if you would like to perform the MAR encoding steps yourself\n",
    "\n",
    "# create a writer object for the excel file\n",
    "writer = pd.ExcelWriter(mar_file)\n",
    "\n",
    "# create a dataframe that is just the unique addresses from our condos dataframe\n",
    "addresses = pd.DataFrame(condos['FULLADDRESS'].unique(), columns=['full_address'])\n",
    "\n",
    "# write the dataframe to excel and save the file\n",
    "addresses.to_excel(writer, index=False)\n",
    "writer.save()```"
   ]
  },
  {
   "cell_type": "markdown",
   "metadata": {},
   "source": [
    " We can read the MAR encoded data back into a dataframe and join the data to our condos dataframe.\n"
   ]
  },
  {
   "cell_type": "code",
   "execution_count": 39,
   "metadata": {},
   "outputs": [],
   "source": [
    "mar = pd.read_excel(mar_file)"
   ]
  },
  {
   "cell_type": "code",
   "execution_count": 40,
   "metadata": {},
   "outputs": [
    {
     "name": "stdout",
     "output_type": "stream",
     "text": [
      "<class 'pandas.core.frame.DataFrame'>\n",
      "RangeIndex: 3402 entries, 0 to 3401\n",
      "Data columns (total 14 columns):\n",
      " #   Column               Non-Null Count  Dtype  \n",
      "---  ------               --------------  -----  \n",
      " 0   full_address         3402 non-null   object \n",
      " 1   MAR_MATCHADDRESS     3402 non-null   object \n",
      " 2   MAR_XCOORD           3402 non-null   float64\n",
      " 3   MAR_YCOORD           3402 non-null   float64\n",
      " 4   MAR_LATITUDE         3402 non-null   float64\n",
      " 5   MAR_LONGITUDE        3402 non-null   float64\n",
      " 6   MAR_WARD             3402 non-null   object \n",
      " 7   MAR_CENSUS_TRACT     3402 non-null   int64  \n",
      " 8   MAR_ZIPCODE          3402 non-null   int64  \n",
      " 9   MARID                3402 non-null   int64  \n",
      " 10  MAR_ERROR            0 non-null      float64\n",
      " 11  MAR_SCORE            3402 non-null   int64  \n",
      " 12  MAR_SOURCEOPERATION  3402 non-null   object \n",
      " 13  MAR_IGNORE           0 non-null      float64\n",
      "dtypes: float64(6), int64(4), object(4)\n",
      "memory usage: 372.2+ KB\n"
     ]
    }
   ],
   "source": [
    "mar.info()"
   ]
  },
  {
   "cell_type": "code",
   "execution_count": 41,
   "metadata": {},
   "outputs": [],
   "source": [
    "condos = pd.merge(condos, mar, left_on='FULLADDRESS',  right_on='full_address')"
   ]
  },
  {
   "cell_type": "code",
   "execution_count": 42,
   "metadata": {},
   "outputs": [
    {
     "data": {
      "text/plain": [
       "(19563, 34)"
      ]
     },
     "execution_count": 42,
     "metadata": {},
     "output_type": "execute_result"
    }
   ],
   "source": [
    "condos.shape"
   ]
  },
  {
   "cell_type": "code",
   "execution_count": 43,
   "metadata": {},
   "outputs": [
    {
     "data": {
      "text/html": [
       "<div>\n",
       "<style scoped>\n",
       "    .dataframe tbody tr th:only-of-type {\n",
       "        vertical-align: middle;\n",
       "    }\n",
       "\n",
       "    .dataframe tbody tr th {\n",
       "        vertical-align: top;\n",
       "    }\n",
       "\n",
       "    .dataframe thead th {\n",
       "        text-align: right;\n",
       "    }\n",
       "</style>\n",
       "<table border=\"1\" class=\"dataframe\">\n",
       "  <thead>\n",
       "    <tr style=\"text-align: right;\">\n",
       "      <th></th>\n",
       "      <th>SSL</th>\n",
       "      <th>BLDG_NUM</th>\n",
       "      <th>CMPLX_NUM</th>\n",
       "      <th>AYB</th>\n",
       "      <th>EYB</th>\n",
       "      <th>BEDRM</th>\n",
       "      <th>BATHRM</th>\n",
       "      <th>HF_BATHRM</th>\n",
       "      <th>HEAT</th>\n",
       "      <th>HEAT_D</th>\n",
       "      <th>AC</th>\n",
       "      <th>FIREPLACES</th>\n",
       "      <th>SALEDATE</th>\n",
       "      <th>PRICE</th>\n",
       "      <th>SALE_NUM</th>\n",
       "      <th>LIVING_GBA</th>\n",
       "      <th>UNIT_ID</th>\n",
       "      <th>ADDRESS_ID</th>\n",
       "      <th>FULLADDRESS</th>\n",
       "      <th>UNITNUM</th>\n",
       "      <th>full_address</th>\n",
       "      <th>MAR_MATCHADDRESS</th>\n",
       "      <th>MAR_XCOORD</th>\n",
       "      <th>MAR_YCOORD</th>\n",
       "      <th>MAR_LATITUDE</th>\n",
       "      <th>MAR_LONGITUDE</th>\n",
       "      <th>MAR_WARD</th>\n",
       "      <th>MAR_CENSUS_TRACT</th>\n",
       "      <th>MAR_ZIPCODE</th>\n",
       "      <th>MARID</th>\n",
       "      <th>MAR_ERROR</th>\n",
       "      <th>MAR_SCORE</th>\n",
       "      <th>MAR_SOURCEOPERATION</th>\n",
       "      <th>MAR_IGNORE</th>\n",
       "    </tr>\n",
       "  </thead>\n",
       "  <tbody>\n",
       "    <tr>\n",
       "      <th>0</th>\n",
       "      <td>5763    2009</td>\n",
       "      <td>1</td>\n",
       "      <td>1481</td>\n",
       "      <td>1965</td>\n",
       "      <td>2002</td>\n",
       "      <td>2.0</td>\n",
       "      <td>1.0</td>\n",
       "      <td>0.0</td>\n",
       "      <td>3.0</td>\n",
       "      <td>Wall Furnace</td>\n",
       "      <td>Y</td>\n",
       "      <td>0.0</td>\n",
       "      <td>2007-06-11 00:00:00+00:00</td>\n",
       "      <td>145000.0</td>\n",
       "      <td>1</td>\n",
       "      <td>715</td>\n",
       "      <td>24432</td>\n",
       "      <td>145293</td>\n",
       "      <td>1907 GOOD HOPE ROAD SE</td>\n",
       "      <td>10</td>\n",
       "      <td>1907 GOOD HOPE ROAD SE</td>\n",
       "      <td>1907 GOOD HOPE ROAD SE</td>\n",
       "      <td>402002.58</td>\n",
       "      <td>132926.08</td>\n",
       "      <td>38.864152</td>\n",
       "      <td>-76.976925</td>\n",
       "      <td>Ward 8</td>\n",
       "      <td>7504</td>\n",
       "      <td>20020</td>\n",
       "      <td>145293</td>\n",
       "      <td>NaN</td>\n",
       "      <td>100</td>\n",
       "      <td>DC Address</td>\n",
       "      <td>NaN</td>\n",
       "    </tr>\n",
       "    <tr>\n",
       "      <th>1</th>\n",
       "      <td>5763    2011</td>\n",
       "      <td>1</td>\n",
       "      <td>1481</td>\n",
       "      <td>1965</td>\n",
       "      <td>2002</td>\n",
       "      <td>2.0</td>\n",
       "      <td>1.0</td>\n",
       "      <td>0.0</td>\n",
       "      <td>3.0</td>\n",
       "      <td>Wall Furnace</td>\n",
       "      <td>Y</td>\n",
       "      <td>0.0</td>\n",
       "      <td>2005-08-16 00:00:00+00:00</td>\n",
       "      <td>126000.0</td>\n",
       "      <td>1</td>\n",
       "      <td>688</td>\n",
       "      <td>24434</td>\n",
       "      <td>145293</td>\n",
       "      <td>1907 GOOD HOPE ROAD SE</td>\n",
       "      <td>102</td>\n",
       "      <td>1907 GOOD HOPE ROAD SE</td>\n",
       "      <td>1907 GOOD HOPE ROAD SE</td>\n",
       "      <td>402002.58</td>\n",
       "      <td>132926.08</td>\n",
       "      <td>38.864152</td>\n",
       "      <td>-76.976925</td>\n",
       "      <td>Ward 8</td>\n",
       "      <td>7504</td>\n",
       "      <td>20020</td>\n",
       "      <td>145293</td>\n",
       "      <td>NaN</td>\n",
       "      <td>100</td>\n",
       "      <td>DC Address</td>\n",
       "      <td>NaN</td>\n",
       "    </tr>\n",
       "    <tr>\n",
       "      <th>2</th>\n",
       "      <td>5763    2012</td>\n",
       "      <td>1</td>\n",
       "      <td>1481</td>\n",
       "      <td>1965</td>\n",
       "      <td>2002</td>\n",
       "      <td>2.0</td>\n",
       "      <td>1.0</td>\n",
       "      <td>0.0</td>\n",
       "      <td>3.0</td>\n",
       "      <td>Wall Furnace</td>\n",
       "      <td>Y</td>\n",
       "      <td>0.0</td>\n",
       "      <td>2002-05-21 00:00:00+00:00</td>\n",
       "      <td>80995.0</td>\n",
       "      <td>1</td>\n",
       "      <td>698</td>\n",
       "      <td>22846</td>\n",
       "      <td>145293</td>\n",
       "      <td>1907 GOOD HOPE ROAD SE</td>\n",
       "      <td>103</td>\n",
       "      <td>1907 GOOD HOPE ROAD SE</td>\n",
       "      <td>1907 GOOD HOPE ROAD SE</td>\n",
       "      <td>402002.58</td>\n",
       "      <td>132926.08</td>\n",
       "      <td>38.864152</td>\n",
       "      <td>-76.976925</td>\n",
       "      <td>Ward 8</td>\n",
       "      <td>7504</td>\n",
       "      <td>20020</td>\n",
       "      <td>145293</td>\n",
       "      <td>NaN</td>\n",
       "      <td>100</td>\n",
       "      <td>DC Address</td>\n",
       "      <td>NaN</td>\n",
       "    </tr>\n",
       "    <tr>\n",
       "      <th>3</th>\n",
       "      <td>5763    2018</td>\n",
       "      <td>1</td>\n",
       "      <td>1481</td>\n",
       "      <td>1965</td>\n",
       "      <td>2002</td>\n",
       "      <td>2.0</td>\n",
       "      <td>1.0</td>\n",
       "      <td>0.0</td>\n",
       "      <td>3.0</td>\n",
       "      <td>Wall Furnace</td>\n",
       "      <td>Y</td>\n",
       "      <td>0.0</td>\n",
       "      <td>2010-04-22 00:00:00+00:00</td>\n",
       "      <td>22000.0</td>\n",
       "      <td>1</td>\n",
       "      <td>652</td>\n",
       "      <td>22852</td>\n",
       "      <td>145293</td>\n",
       "      <td>1907 GOOD HOPE ROAD SE</td>\n",
       "      <td>109</td>\n",
       "      <td>1907 GOOD HOPE ROAD SE</td>\n",
       "      <td>1907 GOOD HOPE ROAD SE</td>\n",
       "      <td>402002.58</td>\n",
       "      <td>132926.08</td>\n",
       "      <td>38.864152</td>\n",
       "      <td>-76.976925</td>\n",
       "      <td>Ward 8</td>\n",
       "      <td>7504</td>\n",
       "      <td>20020</td>\n",
       "      <td>145293</td>\n",
       "      <td>NaN</td>\n",
       "      <td>100</td>\n",
       "      <td>DC Address</td>\n",
       "      <td>NaN</td>\n",
       "    </tr>\n",
       "    <tr>\n",
       "      <th>4</th>\n",
       "      <td>5763    2019</td>\n",
       "      <td>1</td>\n",
       "      <td>1481</td>\n",
       "      <td>1965</td>\n",
       "      <td>2002</td>\n",
       "      <td>2.0</td>\n",
       "      <td>1.0</td>\n",
       "      <td>0.0</td>\n",
       "      <td>3.0</td>\n",
       "      <td>Wall Furnace</td>\n",
       "      <td>Y</td>\n",
       "      <td>0.0</td>\n",
       "      <td>2017-11-01 00:00:00+00:00</td>\n",
       "      <td>72190.0</td>\n",
       "      <td>3</td>\n",
       "      <td>715</td>\n",
       "      <td>23434</td>\n",
       "      <td>145293</td>\n",
       "      <td>1907 GOOD HOPE ROAD SE</td>\n",
       "      <td>110</td>\n",
       "      <td>1907 GOOD HOPE ROAD SE</td>\n",
       "      <td>1907 GOOD HOPE ROAD SE</td>\n",
       "      <td>402002.58</td>\n",
       "      <td>132926.08</td>\n",
       "      <td>38.864152</td>\n",
       "      <td>-76.976925</td>\n",
       "      <td>Ward 8</td>\n",
       "      <td>7504</td>\n",
       "      <td>20020</td>\n",
       "      <td>145293</td>\n",
       "      <td>NaN</td>\n",
       "      <td>100</td>\n",
       "      <td>DC Address</td>\n",
       "      <td>NaN</td>\n",
       "    </tr>\n",
       "  </tbody>\n",
       "</table>\n",
       "</div>"
      ],
      "text/plain": [
       "            SSL  BLDG_NUM  CMPLX_NUM   AYB   EYB  BEDRM  BATHRM  HF_BATHRM  \\\n",
       "0  5763    2009         1       1481  1965  2002    2.0     1.0        0.0   \n",
       "1  5763    2011         1       1481  1965  2002    2.0     1.0        0.0   \n",
       "2  5763    2012         1       1481  1965  2002    2.0     1.0        0.0   \n",
       "3  5763    2018         1       1481  1965  2002    2.0     1.0        0.0   \n",
       "4  5763    2019         1       1481  1965  2002    2.0     1.0        0.0   \n",
       "\n",
       "   HEAT        HEAT_D AC  FIREPLACES                  SALEDATE     PRICE  \\\n",
       "0   3.0  Wall Furnace  Y         0.0 2007-06-11 00:00:00+00:00  145000.0   \n",
       "1   3.0  Wall Furnace  Y         0.0 2005-08-16 00:00:00+00:00  126000.0   \n",
       "2   3.0  Wall Furnace  Y         0.0 2002-05-21 00:00:00+00:00   80995.0   \n",
       "3   3.0  Wall Furnace  Y         0.0 2010-04-22 00:00:00+00:00   22000.0   \n",
       "4   3.0  Wall Furnace  Y         0.0 2017-11-01 00:00:00+00:00   72190.0   \n",
       "\n",
       "   SALE_NUM  LIVING_GBA  UNIT_ID  ADDRESS_ID             FULLADDRESS UNITNUM  \\\n",
       "0         1         715    24432      145293  1907 GOOD HOPE ROAD SE      10   \n",
       "1         1         688    24434      145293  1907 GOOD HOPE ROAD SE     102   \n",
       "2         1         698    22846      145293  1907 GOOD HOPE ROAD SE     103   \n",
       "3         1         652    22852      145293  1907 GOOD HOPE ROAD SE     109   \n",
       "4         3         715    23434      145293  1907 GOOD HOPE ROAD SE     110   \n",
       "\n",
       "             full_address        MAR_MATCHADDRESS  MAR_XCOORD  MAR_YCOORD  \\\n",
       "0  1907 GOOD HOPE ROAD SE  1907 GOOD HOPE ROAD SE   402002.58   132926.08   \n",
       "1  1907 GOOD HOPE ROAD SE  1907 GOOD HOPE ROAD SE   402002.58   132926.08   \n",
       "2  1907 GOOD HOPE ROAD SE  1907 GOOD HOPE ROAD SE   402002.58   132926.08   \n",
       "3  1907 GOOD HOPE ROAD SE  1907 GOOD HOPE ROAD SE   402002.58   132926.08   \n",
       "4  1907 GOOD HOPE ROAD SE  1907 GOOD HOPE ROAD SE   402002.58   132926.08   \n",
       "\n",
       "   MAR_LATITUDE  MAR_LONGITUDE MAR_WARD  MAR_CENSUS_TRACT  MAR_ZIPCODE  \\\n",
       "0     38.864152     -76.976925   Ward 8              7504        20020   \n",
       "1     38.864152     -76.976925   Ward 8              7504        20020   \n",
       "2     38.864152     -76.976925   Ward 8              7504        20020   \n",
       "3     38.864152     -76.976925   Ward 8              7504        20020   \n",
       "4     38.864152     -76.976925   Ward 8              7504        20020   \n",
       "\n",
       "    MARID  MAR_ERROR  MAR_SCORE MAR_SOURCEOPERATION  MAR_IGNORE  \n",
       "0  145293        NaN        100          DC Address         NaN  \n",
       "1  145293        NaN        100          DC Address         NaN  \n",
       "2  145293        NaN        100          DC Address         NaN  \n",
       "3  145293        NaN        100          DC Address         NaN  \n",
       "4  145293        NaN        100          DC Address         NaN  "
      ]
     },
     "execution_count": 43,
     "metadata": {},
     "output_type": "execute_result"
    }
   ],
   "source": [
    "condos.head()"
   ]
  },
  {
   "cell_type": "code",
   "execution_count": 44,
   "metadata": {},
   "outputs": [
    {
     "data": {
      "text/plain": [
       "Ward 2    5057\n",
       "Ward 1    4742\n",
       "Ward 3    2726\n",
       "Ward 6    2640\n",
       "Ward 8    1326\n",
       "Ward 5    1314\n",
       "Ward 7     920\n",
       "Ward 4     838\n",
       "Name: MAR_WARD, dtype: int64"
      ]
     },
     "execution_count": 44,
     "metadata": {},
     "output_type": "execute_result"
    }
   ],
   "source": [
    "condos.MAR_WARD.value_counts()"
   ]
  },
  {
   "cell_type": "markdown",
   "metadata": {},
   "source": [
    "Now we have the Ward data we need. Let's create another dataframe, condo_6, that contains the condos for Ward 6. We will also drop some more columns we won't need. Let's keep MAR_CENSUS_TRACT in case we want to use that later."
   ]
  },
  {
   "cell_type": "code",
   "execution_count": 45,
   "metadata": {},
   "outputs": [],
   "source": [
    "condo_6 = condos[condos.MAR_WARD == 'Ward 6']"
   ]
  },
  {
   "cell_type": "code",
   "execution_count": 46,
   "metadata": {},
   "outputs": [
    {
     "data": {
      "text/plain": [
       "(2640, 34)"
      ]
     },
     "execution_count": 46,
     "metadata": {},
     "output_type": "execute_result"
    }
   ],
   "source": [
    "condo_6.shape"
   ]
  },
  {
   "cell_type": "code",
   "execution_count": 47,
   "metadata": {},
   "outputs": [
    {
     "name": "stderr",
     "output_type": "stream",
     "text": [
      "C:\\Users\\falco\\anaconda3\\lib\\site-packages\\pandas\\core\\frame.py:3997: SettingWithCopyWarning: \n",
      "A value is trying to be set on a copy of a slice from a DataFrame\n",
      "\n",
      "See the caveats in the documentation: https://pandas.pydata.org/pandas-docs/stable/user_guide/indexing.html#returning-a-view-versus-a-copy\n",
      "  errors=errors,\n"
     ]
    }
   ],
   "source": [
    "condo_6.drop(['full_address',  'MAR_MATCHADDRESS', 'MAR_XCOORD', 'MAR_YCOORD', 'MAR_LATITUDE', 'MAR_LONGITUDE', \n",
    "              'MAR_WARD', 'MAR_ZIPCODE', 'MARID', 'MAR_ERROR', 'MAR_SCORE', 'MAR_SOURCEOPERATION', \n",
    "              'MAR_IGNORE'], axis=1, inplace=True)"
   ]
  },
  {
   "cell_type": "code",
   "execution_count": 48,
   "metadata": {},
   "outputs": [
    {
     "data": {
      "text/plain": [
       "(2640, 21)"
      ]
     },
     "execution_count": 48,
     "metadata": {},
     "output_type": "execute_result"
    }
   ],
   "source": [
    "condo_6.shape"
   ]
  },
  {
   "cell_type": "code",
   "execution_count": 49,
   "metadata": {},
   "outputs": [
    {
     "name": "stdout",
     "output_type": "stream",
     "text": [
      "<class 'pandas.core.frame.DataFrame'>\n",
      "Int64Index: 2640 entries, 192 to 19562\n",
      "Data columns (total 21 columns):\n",
      " #   Column            Non-Null Count  Dtype              \n",
      "---  ------            --------------  -----              \n",
      " 0   SSL               2640 non-null   object             \n",
      " 1   BLDG_NUM          2640 non-null   int64              \n",
      " 2   CMPLX_NUM         2640 non-null   int64              \n",
      " 3   AYB               2640 non-null   int64              \n",
      " 4   EYB               2640 non-null   int64              \n",
      " 5   BEDRM             2640 non-null   float64            \n",
      " 6   BATHRM            2640 non-null   float64            \n",
      " 7   HF_BATHRM         2640 non-null   float64            \n",
      " 8   HEAT              2640 non-null   float64            \n",
      " 9   HEAT_D            2640 non-null   object             \n",
      " 10  AC                2640 non-null   object             \n",
      " 11  FIREPLACES        2640 non-null   float64            \n",
      " 12  SALEDATE          2640 non-null   datetime64[ns, UTC]\n",
      " 13  PRICE             2640 non-null   float64            \n",
      " 14  SALE_NUM          2640 non-null   int64              \n",
      " 15  LIVING_GBA        2640 non-null   int64              \n",
      " 16  UNIT_ID           2640 non-null   int64              \n",
      " 17  ADDRESS_ID        2640 non-null   int64              \n",
      " 18  FULLADDRESS       2640 non-null   object             \n",
      " 19  UNITNUM           2640 non-null   object             \n",
      " 20  MAR_CENSUS_TRACT  2640 non-null   int64              \n",
      "dtypes: datetime64[ns, UTC](1), float64(6), int64(9), object(5)\n",
      "memory usage: 453.8+ KB\n"
     ]
    }
   ],
   "source": [
    "condo_6.info()"
   ]
  },
  {
   "cell_type": "markdown",
   "metadata": {},
   "source": [
    "### Exploratory Data Analysis\n"
   ]
  },
  {
   "cell_type": "code",
   "execution_count": 50,
   "metadata": {},
   "outputs": [
    {
     "data": {
      "text/html": [
       "<div>\n",
       "<style scoped>\n",
       "    .dataframe tbody tr th:only-of-type {\n",
       "        vertical-align: middle;\n",
       "    }\n",
       "\n",
       "    .dataframe tbody tr th {\n",
       "        vertical-align: top;\n",
       "    }\n",
       "\n",
       "    .dataframe thead th {\n",
       "        text-align: right;\n",
       "    }\n",
       "</style>\n",
       "<table border=\"1\" class=\"dataframe\">\n",
       "  <thead>\n",
       "    <tr style=\"text-align: right;\">\n",
       "      <th></th>\n",
       "      <th>BLDG_NUM</th>\n",
       "      <th>CMPLX_NUM</th>\n",
       "      <th>AYB</th>\n",
       "      <th>EYB</th>\n",
       "      <th>BEDRM</th>\n",
       "      <th>BATHRM</th>\n",
       "      <th>HF_BATHRM</th>\n",
       "      <th>HEAT</th>\n",
       "      <th>FIREPLACES</th>\n",
       "      <th>PRICE</th>\n",
       "      <th>SALE_NUM</th>\n",
       "      <th>LIVING_GBA</th>\n",
       "      <th>UNIT_ID</th>\n",
       "      <th>ADDRESS_ID</th>\n",
       "      <th>MAR_CENSUS_TRACT</th>\n",
       "    </tr>\n",
       "  </thead>\n",
       "  <tbody>\n",
       "    <tr>\n",
       "      <th>count</th>\n",
       "      <td>2640.0</td>\n",
       "      <td>2640.000000</td>\n",
       "      <td>2640.000000</td>\n",
       "      <td>2640.000000</td>\n",
       "      <td>2640.000000</td>\n",
       "      <td>2640.000000</td>\n",
       "      <td>2640.000000</td>\n",
       "      <td>2640.000000</td>\n",
       "      <td>2640.000000</td>\n",
       "      <td>2.640000e+03</td>\n",
       "      <td>2640.000000</td>\n",
       "      <td>2640.000000</td>\n",
       "      <td>2640.000000</td>\n",
       "      <td>2640.000000</td>\n",
       "      <td>2640.000000</td>\n",
       "    </tr>\n",
       "    <tr>\n",
       "      <th>mean</th>\n",
       "      <td>1.0</td>\n",
       "      <td>3158.812121</td>\n",
       "      <td>1963.009848</td>\n",
       "      <td>1966.423864</td>\n",
       "      <td>2.125379</td>\n",
       "      <td>1.796970</td>\n",
       "      <td>0.224242</td>\n",
       "      <td>4.332197</td>\n",
       "      <td>0.586742</td>\n",
       "      <td>4.604160e+05</td>\n",
       "      <td>1.818561</td>\n",
       "      <td>1115.746591</td>\n",
       "      <td>134977.663636</td>\n",
       "      <td>206655.075758</td>\n",
       "      <td>7256.703409</td>\n",
       "    </tr>\n",
       "    <tr>\n",
       "      <th>std</th>\n",
       "      <td>0.0</td>\n",
       "      <td>908.154892</td>\n",
       "      <td>47.451528</td>\n",
       "      <td>42.474068</td>\n",
       "      <td>0.347949</td>\n",
       "      <td>0.523483</td>\n",
       "      <td>0.418069</td>\n",
       "      <td>3.458281</td>\n",
       "      <td>19.794072</td>\n",
       "      <td>3.388567e+05</td>\n",
       "      <td>1.138078</td>\n",
       "      <td>359.952646</td>\n",
       "      <td>86398.825662</td>\n",
       "      <td>100704.304569</td>\n",
       "      <td>2105.446006</td>\n",
       "    </tr>\n",
       "    <tr>\n",
       "      <th>min</th>\n",
       "      <td>1.0</td>\n",
       "      <td>1346.000000</td>\n",
       "      <td>1780.000000</td>\n",
       "      <td>1880.000000</td>\n",
       "      <td>2.000000</td>\n",
       "      <td>1.000000</td>\n",
       "      <td>0.000000</td>\n",
       "      <td>0.000000</td>\n",
       "      <td>0.000000</td>\n",
       "      <td>0.000000e+00</td>\n",
       "      <td>1.000000</td>\n",
       "      <td>440.000000</td>\n",
       "      <td>270.000000</td>\n",
       "      <td>1277.000000</td>\n",
       "      <td>4600.000000</td>\n",
       "    </tr>\n",
       "    <tr>\n",
       "      <th>25%</th>\n",
       "      <td>1.0</td>\n",
       "      <td>2605.000000</td>\n",
       "      <td>1915.000000</td>\n",
       "      <td>1919.000000</td>\n",
       "      <td>2.000000</td>\n",
       "      <td>1.000000</td>\n",
       "      <td>0.000000</td>\n",
       "      <td>1.000000</td>\n",
       "      <td>0.000000</td>\n",
       "      <td>2.987500e+05</td>\n",
       "      <td>1.000000</td>\n",
       "      <td>877.750000</td>\n",
       "      <td>30515.750000</td>\n",
       "      <td>145213.000000</td>\n",
       "      <td>4802.000000</td>\n",
       "    </tr>\n",
       "    <tr>\n",
       "      <th>50%</th>\n",
       "      <td>1.0</td>\n",
       "      <td>2860.000000</td>\n",
       "      <td>1967.000000</td>\n",
       "      <td>1967.000000</td>\n",
       "      <td>2.000000</td>\n",
       "      <td>2.000000</td>\n",
       "      <td>0.000000</td>\n",
       "      <td>1.000000</td>\n",
       "      <td>0.000000</td>\n",
       "      <td>4.750000e+05</td>\n",
       "      <td>1.000000</td>\n",
       "      <td>1046.000000</td>\n",
       "      <td>120818.000000</td>\n",
       "      <td>237557.000000</td>\n",
       "      <td>7100.000000</td>\n",
       "    </tr>\n",
       "    <tr>\n",
       "      <th>75%</th>\n",
       "      <td>1.0</td>\n",
       "      <td>4051.000000</td>\n",
       "      <td>2007.000000</td>\n",
       "      <td>2007.000000</td>\n",
       "      <td>2.000000</td>\n",
       "      <td>2.000000</td>\n",
       "      <td>0.000000</td>\n",
       "      <td>8.000000</td>\n",
       "      <td>0.000000</td>\n",
       "      <td>6.100000e+05</td>\n",
       "      <td>2.000000</td>\n",
       "      <td>1249.000000</td>\n",
       "      <td>218175.500000</td>\n",
       "      <td>303505.000000</td>\n",
       "      <td>8301.000000</td>\n",
       "    </tr>\n",
       "    <tr>\n",
       "      <th>max</th>\n",
       "      <td>1.0</td>\n",
       "      <td>5505.000000</td>\n",
       "      <td>2017.000000</td>\n",
       "      <td>2017.000000</td>\n",
       "      <td>4.000000</td>\n",
       "      <td>4.000000</td>\n",
       "      <td>2.000000</td>\n",
       "      <td>13.000000</td>\n",
       "      <td>1017.000000</td>\n",
       "      <td>3.300000e+06</td>\n",
       "      <td>7.000000</td>\n",
       "      <td>5653.000000</td>\n",
       "      <td>268700.000000</td>\n",
       "      <td>313135.000000</td>\n",
       "      <td>11000.000000</td>\n",
       "    </tr>\n",
       "  </tbody>\n",
       "</table>\n",
       "</div>"
      ],
      "text/plain": [
       "       BLDG_NUM    CMPLX_NUM          AYB          EYB        BEDRM  \\\n",
       "count    2640.0  2640.000000  2640.000000  2640.000000  2640.000000   \n",
       "mean        1.0  3158.812121  1963.009848  1966.423864     2.125379   \n",
       "std         0.0   908.154892    47.451528    42.474068     0.347949   \n",
       "min         1.0  1346.000000  1780.000000  1880.000000     2.000000   \n",
       "25%         1.0  2605.000000  1915.000000  1919.000000     2.000000   \n",
       "50%         1.0  2860.000000  1967.000000  1967.000000     2.000000   \n",
       "75%         1.0  4051.000000  2007.000000  2007.000000     2.000000   \n",
       "max         1.0  5505.000000  2017.000000  2017.000000     4.000000   \n",
       "\n",
       "            BATHRM    HF_BATHRM         HEAT   FIREPLACES         PRICE  \\\n",
       "count  2640.000000  2640.000000  2640.000000  2640.000000  2.640000e+03   \n",
       "mean      1.796970     0.224242     4.332197     0.586742  4.604160e+05   \n",
       "std       0.523483     0.418069     3.458281    19.794072  3.388567e+05   \n",
       "min       1.000000     0.000000     0.000000     0.000000  0.000000e+00   \n",
       "25%       1.000000     0.000000     1.000000     0.000000  2.987500e+05   \n",
       "50%       2.000000     0.000000     1.000000     0.000000  4.750000e+05   \n",
       "75%       2.000000     0.000000     8.000000     0.000000  6.100000e+05   \n",
       "max       4.000000     2.000000    13.000000  1017.000000  3.300000e+06   \n",
       "\n",
       "          SALE_NUM   LIVING_GBA        UNIT_ID     ADDRESS_ID  \\\n",
       "count  2640.000000  2640.000000    2640.000000    2640.000000   \n",
       "mean      1.818561  1115.746591  134977.663636  206655.075758   \n",
       "std       1.138078   359.952646   86398.825662  100704.304569   \n",
       "min       1.000000   440.000000     270.000000    1277.000000   \n",
       "25%       1.000000   877.750000   30515.750000  145213.000000   \n",
       "50%       1.000000  1046.000000  120818.000000  237557.000000   \n",
       "75%       2.000000  1249.000000  218175.500000  303505.000000   \n",
       "max       7.000000  5653.000000  268700.000000  313135.000000   \n",
       "\n",
       "       MAR_CENSUS_TRACT  \n",
       "count       2640.000000  \n",
       "mean        7256.703409  \n",
       "std         2105.446006  \n",
       "min         4600.000000  \n",
       "25%         4802.000000  \n",
       "50%         7100.000000  \n",
       "75%         8301.000000  \n",
       "max        11000.000000  "
      ]
     },
     "execution_count": 50,
     "metadata": {},
     "output_type": "execute_result"
    }
   ],
   "source": [
    "condo_6.describe()"
   ]
  },
  {
   "cell_type": "markdown",
   "metadata": {},
   "source": [
    "It looks like in Ward 6, the average condo has 2.1 bedrooms, 1.8 bathrooms, has been sold twice, has an average cost of $460,416 and has a living area of 1115.7 square feet. It also looks like we have some prices in our data that are $0 which may skew data. We also see there is at least one condo that sold for over 3 million dollars."
   ]
  },
  {
   "cell_type": "code",
   "execution_count": 51,
   "metadata": {},
   "outputs": [
    {
     "data": {
      "image/png": "[encoded data removed]",
      "text/plain": [
       "<Figure size 720x576 with 1 Axes>"
      ]
     },
     "metadata": {
      "needs_background": "light"
     },
     "output_type": "display_data"
    }
   ],
   "source": [
    "fig, ax = plt.subplots(figsize=(10,8))\n",
    "g = sns.distplot(condo_6.PRICE, rug=True, kde=True, ax=ax)\n",
    "t = g.set_title(\"Distribution of Sale Prices\")"
   ]
  },
  {
   "cell_type": "markdown",
   "metadata": {},
   "source": [
    "It would also be interesting to understand the price based on the year the unit was last sold. We have the SALEDATE and can use that to group the sales prices by year in a box plot. We don't have to create a separate column with the year data. As you can see below, we can manipulate the data we want to use as part of creating the plot."
   ]
  },
  {
   "cell_type": "code",
   "execution_count": 52,
   "metadata": {},
   "outputs": [
    {
     "data": {
      "image/png": "[encoded data removed]",
      "text/plain": [
       "<Figure size 1008x576 with 1 Axes>"
      ]
     },
     "metadata": {
      "needs_background": "light"
     },
     "output_type": "display_data"
    }
   ],
   "source": [
    "fig, ax = plt.subplots(figsize=(14,8))\n",
    "g = sns.boxplot(y='PRICE', x=condo_6['SALEDATE'].dt.year, data=condo_6, ax=ax)\n",
    "t = g.set_title(\"Distribution of Sale Price by Year\")"
   ]
  },
  {
   "cell_type": "markdown",
   "metadata": {},
   "source": [
    "Seaborn's joint plot allows you to view both a joint distribution and its marginals at once."
   ]
  },
  {
   "cell_type": "code",
   "execution_count": 53,
   "metadata": {},
   "outputs": [
    {
     "name": "stderr",
     "output_type": "stream",
     "text": [
      "C:\\Users\\falco\\anaconda3\\lib\\site-packages\\seaborn\\axisgrid.py:2272: UserWarning: The `size` parameter has been renamed to `height`; please update your code.\n",
      "  warnings.warn(msg, UserWarning)\n"
     ]
    },
    {
     "data": {
      "image/png": "[encoded data removed]",
      "text/plain": [
       "<Figure size 576x576 with 3 Axes>"
      ]
     },
     "metadata": {
      "needs_background": "light"
     },
     "output_type": "display_data"
    }
   ],
   "source": [
    "g = sns.jointplot(y=\"PRICE\", x=\"LIVING_GBA\", data=condo_6, kind=\"hex\", size=8)"
   ]
  },
  {
   "cell_type": "markdown",
   "metadata": {},
   "source": [
    "Since we intend to perform a regression with the data, we can also look at the correlations between our numeric variables in order to identify whether or not we have highly correlated variables. To do that, we will create (yet) another dataframe with the numerical variables. We can create a correlation matrix and provide that to the seaborn heatmap function to create a visual representation of correlation."
   ]
  },
  {
   "cell_type": "code",
   "execution_count": 54,
   "metadata": {},
   "outputs": [
    {
     "name": "stdout",
     "output_type": "stream",
     "text": [
      "<class 'pandas.core.frame.DataFrame'>\n",
      "Int64Index: 2640 entries, 192 to 19562\n",
      "Data columns (total 17 columns):\n",
      " #   Column            Non-Null Count  Dtype  \n",
      "---  ------            --------------  -----  \n",
      " 0   SALE_NUM          2640 non-null   int64  \n",
      " 1   FIREPLACES        2640 non-null   float64\n",
      " 2   BATHRM            2640 non-null   float64\n",
      " 3   PRICE             2640 non-null   float64\n",
      " 4   LIVING_GBA        2640 non-null   int64  \n",
      " 5   AC                2640 non-null   object \n",
      " 6   HF_BATHRM         2640 non-null   float64\n",
      " 7   MAR_CENSUS_TRACT  2640 non-null   int64  \n",
      " 8   BEDRM             2640 non-null   float64\n",
      " 9   AYB               2640 non-null   int64  \n",
      " 10  EYB               2640 non-null   int64  \n",
      " 11  ADDRESS_ID        2640 non-null   int64  \n",
      " 12  BLDG_NUM          2640 non-null   int64  \n",
      " 13  CMPLX_NUM         2640 non-null   int64  \n",
      " 14  HEAT              2640 non-null   float64\n",
      " 15  HEAT_D            2640 non-null   object \n",
      " 16  UNIT_ID           2640 non-null   int64  \n",
      "dtypes: float64(6), int64(9), object(2)\n",
      "memory usage: 451.2+ KB\n"
     ]
    }
   ],
   "source": [
    "numerical = condo_6[list(set(condo_6.columns) - set(['SSL', 'SALEDATE', 'FULLADDRESS', 'UNITNUM']))]\n",
    "numerical.info()"
   ]
  },
  {
   "cell_type": "code",
   "execution_count": 56,
   "metadata": {
    "scrolled": true
   },
   "outputs": [
    {
     "data": {
      "image/png": "[encoded data removed]",
      "text/plain": [
       "<Figure size 720x720 with 2 Axes>"
      ]
     },
     "metadata": {
      "needs_background": "light"
     },
     "output_type": "display_data"
    }
   ],
   "source": [
    "corr_matrix = numerical.corr()\n",
    "fig, ax = plt.subplots(figsize=(10,10))\n",
    "sns.heatmap(corr_matrix, ax=ax);"
   ]
  },
  {
   "cell_type": "code",
   "execution_count": null,
   "metadata": {},
   "outputs": [],
   "source": []
  },
  {
   "cell_type": "code",
   "execution_count": 58,
   "metadata": {},
   "outputs": [
    {
     "name": "stdout",
     "output_type": "stream",
     "text": [
      "My credentails:\n",
      "My CLIENT_ID: 2G1HLSOXHEVMF0TWLKSBA2L1TKOGILA34RA1Q232ETMF3EJU\n",
      "My CLIENT_SECRET:THFXQ1MGTZ15SCNUL34ZN42WBDYSCHXVOMZ2MQA1COVQNUGU\n"
     ]
    }
   ],
   "source": [
    "CLIENT_ID = '2G1HLSOXHEVMF0TWLKSBA2L1TKOGILA34RA1Q232ETMF3EJU' #'your-client-ID' # your Foursquare ID\n",
    "CLIENT_SECRET = 'THFXQ1MGTZ15SCNUL34ZN42WBDYSCHXVOMZ2MQA1COVQNUGU' #'your-client-secret' # your Foursquare Secret\n",
    "VERSION = '20190325' # Foursquare API version\n",
    "\n",
    "print('My credentails:')\n",
    "print('My CLIENT_ID: ' + CLIENT_ID)\n",
    "print('My CLIENT_SECRET:' + CLIENT_SECRET)"
   ]
  },
  {
   "cell_type": "code",
   "execution_count": null,
   "metadata": {},
   "outputs": [],
   "source": []
  },
  {
   "cell_type": "code",
   "execution_count": 59,
   "metadata": {},
   "outputs": [],
   "source": [
    "radius = 1000\n",
    "LIMIT = 100\n",
    "\n",
    "def getNearbyVenues(names, latitudes, longitudes, radius=1000):\n",
    "    \n",
    "    venues_list=[]\n",
    "    for name, lat, lng in zip(names, latitudes, longitudes):\n",
    "        print(name)\n",
    "            \n",
    "        # create the API request URL\n",
    "        url = 'https://api.foursquare.com/v2/venues/explore?&client_id={}&client_secret={}&v={}&ll={},{}&radius={}&limit={}'.format(\n",
    "            CLIENT_ID, \n",
    "            CLIENT_SECRET, \n",
    "            VERSION, \n",
    "            lat, \n",
    "            lng, \n",
    "            radius, \n",
    "            LIMIT)\n",
    "            \n",
    "        # make the GET request\n",
    "        results = requests.get(url).json()[\"response\"]['groups'][0]['items']\n",
    "        \n",
    "        # return only relevant information for each nearby venue\n",
    "        venues_list.append([(\n",
    "            name, \n",
    "            lat, \n",
    "            lng, \n",
    "            v['venue']['name'], \n",
    "            v['venue']['location']['lat'], \n",
    "            v['venue']['location']['lng'],  \n",
    "            v['venue']['categories'][0]['name']) for v in results])\n",
    "\n",
    "    nearby_venues = pd.DataFrame([item for venue_list in venues_list for item in venue_list])\n",
    "    nearby_venues.columns = ['District', \n",
    "                  'Dist_Latitude', \n",
    "                  'Dist_Longitude', \n",
    "                  'Venue', \n",
    "                  'Venue_Lat', \n",
    "                  'Venue_Long', \n",
    "                  'Venue_Category']\n",
    "    \n",
    "    return(nearby_venues)"
   ]
  },
  {
   "cell_type": "code",
   "execution_count": null,
   "metadata": {},
   "outputs": [],
   "source": []
  },
  {
   "cell_type": "code",
   "execution_count": null,
   "metadata": {},
   "outputs": [],
   "source": []
  },
  {
   "cell_type": "code",
   "execution_count": null,
   "metadata": {},
   "outputs": [],
   "source": []
  },
  {
   "cell_type": "code",
   "execution_count": null,
   "metadata": {},
   "outputs": [],
   "source": []
  },
  {
   "cell_type": "code",
   "execution_count": null,
   "metadata": {},
   "outputs": [],
   "source": []
  },
  {
   "cell_type": "code",
   "execution_count": null,
   "metadata": {},
   "outputs": [],
   "source": []
  },
  {
   "cell_type": "code",
   "execution_count": null,
   "metadata": {},
   "outputs": [],
   "source": []
  },
  {
   "cell_type": "code",
   "execution_count": null,
   "metadata": {},
   "outputs": [],
   "source": []
  },
  {
   "cell_type": "code",
   "execution_count": null,
   "metadata": {},
   "outputs": [],
   "source": []
  },
  {
   "cell_type": "code",
   "execution_count": null,
   "metadata": {},
   "outputs": [],
   "source": []
  },
  {
   "cell_type": "code",
   "execution_count": null,
   "metadata": {},
   "outputs": [],
   "source": []
  },
  {
   "cell_type": "code",
   "execution_count": null,
   "metadata": {},
   "outputs": [],
   "source": []
  },
  {
   "cell_type": "code",
   "execution_count": null,
   "metadata": {},
   "outputs": [],
   "source": []
  },
  {
   "cell_type": "code",
   "execution_count": null,
   "metadata": {},
   "outputs": [],
   "source": []
  }
 ],
 "metadata": {
  "kernelspec": {
   "display_name": "Python 3",
   "language": "python",
   "name": "python3"
  },
  "language_info": {
   "codemirror_mode": {
    "name": "ipython",
    "version": 3
   },
   "file_extension": ".py",
   "mimetype": "text/x-python",
   "name": "python",
   "nbconvert_exporter": "python",
   "pygments_lexer": "ipython3",
   "version": "3.7.6"
  }
 },
 "nbformat": 4,
 "nbformat_minor": 2
}
